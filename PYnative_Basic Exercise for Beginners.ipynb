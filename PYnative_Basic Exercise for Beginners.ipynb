{
 "metadata": {
  "language_info": {
   "codemirror_mode": {
    "name": "ipython",
    "version": 3
   },
   "file_extension": ".py",
   "mimetype": "text/x-python",
   "name": "python",
   "nbconvert_exporter": "python",
   "pygments_lexer": "ipython3",
   "version": "3.9.1"
  },
  "orig_nbformat": 2,
  "kernelspec": {
   "name": "python3",
   "display_name": "Python 3",
   "language": "python"
  }
 },
 "nbformat": 4,
 "nbformat_minor": 2,
 "cells": [
  {
   "source": [
    "https://pynative.com/python-basic-exercise-for-beginners/\n",
    "\n",
    "Exercise 1: Given two integer numbers return their product. \"\n",
    "If the product is greater than 1000, then return their sum"
   ],
   "cell_type": "markdown",
   "metadata": {}
  },
  {
   "cell_type": "code",
   "execution_count": 10,
   "metadata": {},
   "outputs": [
    {
     "output_type": "stream",
     "name": "stdout",
     "text": [
      "The result is  600\nThe result is  70\n"
     ]
    }
   ],
   "source": [
    "def two_numbers(n1, n2):\n",
    "    product = n1 * n2\n",
    "    sum = n1 + n2\n",
    "    if product > 1000:\n",
    "        print ('The result is ', sum)\n",
    "    else:\n",
    "        print ('The result is ', product)\n",
    "    \n",
    "two_numbers(20, 30)\n",
    "two_numbers(40, 30)"
   ]
  },
  {
   "source": [
    "Exercise 2: Given a range of the first 10 numbers, Iterate from the start number to the end number, and In each iteration print the sum of the current number and previous number"
   ],
   "cell_type": "markdown",
   "metadata": {}
  },
  {
   "cell_type": "code",
   "execution_count": 20,
   "metadata": {},
   "outputs": [
    {
     "output_type": "stream",
     "name": "stdout",
     "text": [
      "Current Number  0 Previous Number 0 Sum:  0\nCurrent Number  1 Previous Number 0 Sum:  1\nCurrent Number  2 Previous Number 0 Sum:  2\nCurrent Number  3 Previous Number 0 Sum:  3\nCurrent Number  4 Previous Number 0 Sum:  4\nCurrent Number  5 Previous Number 0 Sum:  5\nCurrent Number  6 Previous Number 0 Sum:  6\nCurrent Number  7 Previous Number 0 Sum:  7\nCurrent Number  8 Previous Number 0 Sum:  8\nCurrent Number  9 Previous Number 0 Sum:  9\n"
     ]
    }
   ],
   "source": [
    "def numSum(num):\n",
    "    for i in range (num):\n",
    "        previous_number = 0\n",
    "        sum = i + previous_number\n",
    "        print ('Current Number ', i, 'Previous Number', previous_number, 'Sum: ', sum)\n",
    "\n",
    "numSum(10)"
   ]
  },
  {
   "source": [
    "Python Input and Output to Handle User and File Input\n",
    "https://pynative.com/python-input-function-get-user-input/"
   ],
   "cell_type": "markdown",
   "metadata": {}
  },
  {
   "cell_type": "code",
   "execution_count": 25,
   "metadata": {},
   "outputs": [
    {
     "output_type": "stream",
     "name": "stdout",
     "text": [
      "\n\nPrinting Employee Details\nName Salary Company\nJenny 10k SBB\n"
     ]
    }
   ],
   "source": [
    "name = input('Enter Employee Name ')\n",
    "salary = input ('Enter salary ')\n",
    "company = input ('Enter Company name ')\n",
    "\n",
    "print ('\\n')\n",
    "print ('Printing Employee Details')\n",
    "print ('Name', 'Salary', 'Company')\n",
    "print (name, salary, company)"
   ]
  },
  {
   "source": [
    "Exercise 3: Given a string, display only those characters which are present at an even index number."
   ],
   "cell_type": "markdown",
   "metadata": {}
  },
  {
   "cell_type": "code",
   "execution_count": 11,
   "metadata": {},
   "outputs": [
    {
     "output_type": "stream",
     "name": "stdout",
     "text": [
      "Orginal String is  pynative\nPrinting only even index chars\np\nn\nt\nv\n"
     ]
    }
   ],
   "source": [
    "def evenIndex(strs):\n",
    "    for str in strs:\n",
    "        index = strs.index(str)\n",
    "        if index % 2 == 0:\n",
    "            print (str)\n",
    "        else:\n",
    "            None    \n",
    "\n",
    "print(\"Orginal String is \", 'pynative')\n",
    "print(\"Printing only even index chars\")\n",
    "evenIndex('pynative')"
   ]
  },
  {
   "source": [
    "Below is PYnative Solution"
   ],
   "cell_type": "markdown",
   "metadata": {}
  },
  {
   "cell_type": "code",
   "execution_count": 8,
   "metadata": {},
   "outputs": [
    {
     "output_type": "stream",
     "name": "stdout",
     "text": [
      "Orginal String is  pynative\nPrinting only even index chars\nindex[ 0 ] p\nindex[ 2 ] n\nindex[ 4 ] t\nindex[ 6 ] v\n"
     ]
    }
   ],
   "source": [
    "def printEveIndexChar(str):\n",
    "  for i in range(0, len(str)-1, 2):\n",
    "    print(\"index[\",i,\"]\", str[i] )\n",
    "\n",
    "inputStr = \"pynative\" \n",
    "print(\"Orginal String is \", inputStr)\n",
    "\n",
    "print(\"Printing only even index chars\")\n",
    "printEveIndexChar(inputStr)"
   ]
  },
  {
   "source": [
    "Exercise 4: Given a string and an integer number n, remove characters from a string starting from zero up to n and return a new string"
   ],
   "cell_type": "markdown",
   "metadata": {}
  },
  {
   "cell_type": "code",
   "execution_count": 7,
   "metadata": {},
   "outputs": [
    {
     "output_type": "stream",
     "name": "stdout",
     "text": [
      "tive\n"
     ]
    }
   ],
   "source": [
    "def removeChars(strs, n):\n",
    "    truncated = strs[n:]\n",
    "    print(truncated)\n",
    "\n",
    "removeChars('pynative', 4)\n"
   ]
  },
  {
   "source": [
    "Exercise 5: Given a list of numbers, return True if first and last number of a list is same\n",
    "\n",
    "Given list is  [10, 20, 30, 40, 10]"
   ],
   "cell_type": "markdown",
   "metadata": {}
  },
  {
   "cell_type": "code",
   "execution_count": 1,
   "metadata": {},
   "outputs": [
    {
     "output_type": "stream",
     "name": "stdout",
     "text": [
      "Given list is  [10, 20, 30, 40, 10]\nresult is True\n"
     ]
    }
   ],
   "source": [
    "def isFirst_And_Last_Same(numberList):\n",
    "    print('Given list is ', numberList)\n",
    "    firstElement = numberList[0]\n",
    "    lastElement = numberList[-1]\n",
    "    if (firstElement == lastElement):\n",
    "        return True\n",
    "    else:\n",
    "        return False\n",
    "\n",
    "numberList = [10, 20, 30, 40, 10]\n",
    "print('result is', isFirst_And_Last_Same(numberList))\n"
   ]
  },
  {
   "source": [
    "Exercise 6: Given a list of numbers, Iterate it and print only those numbers which are divisible of 5\n",
    "Given list is  [10, 20, 33, 46, 55]"
   ],
   "cell_type": "markdown",
   "metadata": {}
  },
  {
   "cell_type": "code",
   "execution_count": 9,
   "metadata": {},
   "outputs": [
    {
     "output_type": "stream",
     "name": "stdout",
     "text": [
      "10\n20\n55\n"
     ]
    }
   ],
   "source": [
    "def list_divisible(numList):\n",
    "    for num in numList:\n",
    "        if (num % 5 == 0):\n",
    "            print (num)\n",
    "\n",
    "numList = [10, 20, 33, 46, 55]\n",
    "list_divisible(numList)\n"
   ]
  },
  {
   "source": [
    "Exercise 7: Return the count of sub-string “Emma” appears in the given string\n",
    "\n",
    "str = \"Emma is good developer. Emma is a writer\""
   ],
   "cell_type": "markdown",
   "metadata": {}
  },
  {
   "cell_type": "code",
   "execution_count": 2,
   "metadata": {},
   "outputs": [
    {
     "output_type": "stream",
     "name": "stdout",
     "text": [
      "2\n"
     ]
    }
   ],
   "source": [
    "str = \"Emma is good developer. Emma is a writer\"\n",
    "print (str.count('Emma'))"
   ]
  },
  {
   "source": [
    "https://pynative.com/print-pattern-python-examples/\n",
    "\n",
    "Steps to print pattern in Python"
   ],
   "cell_type": "markdown",
   "metadata": {}
  },
  {
   "cell_type": "code",
   "execution_count": 9,
   "metadata": {},
   "outputs": [
    {
     "output_type": "stream",
     "name": "stdout",
     "text": [
      "\n1\n22\n333\n4444\n55555\n"
     ]
    }
   ],
   "source": [
    "# rows = int(input('Enter the number of rows'))\n",
    "rows = 6\n",
    "\n",
    "for i in range (rows):\n",
    "    for j in range (i):\n",
    "        print (i, end = '')\n",
    "    print ('')"
   ]
  },
  {
   "source": [
    "Pyramid pattern of numbers"
   ],
   "cell_type": "markdown",
   "metadata": {}
  },
  {
   "cell_type": "code",
   "execution_count": 13,
   "metadata": {},
   "outputs": [
    {
     "output_type": "stream",
     "name": "stdout",
     "text": [
      "1\n12\n123\n1234\n12345\n"
     ]
    }
   ],
   "source": [
    "rows = 5\n",
    "\n",
    "for i in range (1, rows + 1):\n",
    "    for j in range (1, i + 1):\n",
    "        print (j, end ='')\n",
    "    print ('')\n"
   ]
  },
  {
   "source": [
    "Inverted pyramid pattern of numbers"
   ],
   "cell_type": "markdown",
   "metadata": {}
  },
  {
   "cell_type": "code",
   "execution_count": 17,
   "metadata": {},
   "outputs": [
    {
     "output_type": "stream",
     "name": "stdout",
     "text": [
      "11111\n2222\n333\n44\n5\n"
     ]
    }
   ],
   "source": [
    "rows = 5\n",
    "b = 0\n",
    "for i in range (rows, 0, -1):\n",
    "    b += 1\n",
    "    for j in range (1, i + 1):\n",
    "        print (b, end = '')\n",
    "    print ('\\r')  # can also use print ('')"
   ]
  },
  {
   "source": [
    "Exercise 9: Reverse a given number and return true if it is the same as the original number\n",
    "also refer to: https://www.edureka.co/blog/how-to-reverse-a-number/"
   ],
   "cell_type": "markdown",
   "metadata": {}
  },
  {
   "cell_type": "code",
   "execution_count": 2,
   "metadata": {},
   "outputs": [
    {
     "output_type": "stream",
     "name": "stdout",
     "text": [
      "The reverse number is : 521\n"
     ]
    }
   ],
   "source": [
    "# num = int(input(print('Please enter your favourite number: ')))\n",
    "num = 125\n",
    "reverse_num = 0\n",
    "\n",
    "while (num>0):\n",
    "    remainder = num % 10\n",
    "    reverse_num = (reverse_num * 10) + remainder\n",
    "    num = num // 10\n",
    "\n",
    "print('The reverse number is : {}'.format(reverse_num))"
   ]
  },
  {
   "cell_type": "code",
   "execution_count": 4,
   "metadata": {},
   "outputs": [
    {
     "output_type": "stream",
     "name": "stdout",
     "text": [
      "original number 123\nThe original and reverse number is the same: False\n"
     ]
    }
   ],
   "source": [
    "def reverseCheck(number):\n",
    "    print(\"original number\", number)\n",
    "    originalNum = number\n",
    "    reverseNum = 0\n",
    "    while (number > 0):\n",
    "        reminder = number % 10\n",
    "        reverseNum = (reverseNum * 10) + reminder\n",
    "        number = number // 10\n",
    "    if (originalNum == reverseNum):\n",
    "        return True\n",
    "    else:\n",
    "        return False\n",
    "\n",
    "print(\"The original and reverse number is the same:\", reverseCheck(123))"
   ]
  },
  {
   "source": [
    "Python List Exercise \n",
    "https://pynative.com/python-list-exercise-with-solutions/"
   ],
   "cell_type": "markdown",
   "metadata": {}
  },
  {
   "cell_type": "code",
   "execution_count": 9,
   "metadata": {},
   "outputs": [
    {
     "output_type": "stream",
     "name": "stdout",
     "text": [
      "[4, 16, 36, 64]\n"
     ]
    }
   ],
   "source": [
    "my_list = list([2, 4, 6, 8])\n",
    "\n",
    "for i in range(len(my_list)):\n",
    "    square = my_list[i] * my_list[i]\n",
    "    my_list[i] = square\n",
    "\n",
    "print(my_list)"
   ]
  },
  {
   "cell_type": "code",
   "execution_count": 10,
   "metadata": {},
   "outputs": [
    {
     "output_type": "stream",
     "name": "stdout",
     "text": [
      "[2, 4, 6, 8, 10]\n"
     ]
    }
   ],
   "source": [
    "my_list = list([2, 4, 6, 8, 10, 12])\n",
    "\n",
    "my_list.pop()\n",
    "print(my_list)"
   ]
  },
  {
   "source": [
    "outputList = {expression(variable) for variable in inputList [if variable condition1][if variable condition2]"
   ],
   "cell_type": "markdown",
   "metadata": {}
  },
  {
   "cell_type": "code",
   "execution_count": 11,
   "metadata": {},
   "outputs": [
    {
     "output_type": "stream",
     "name": "stdout",
     "text": [
      "[16, 324, 400]\n"
     ]
    }
   ],
   "source": [
    "inputList = [4, 7, 11, 13, 18, 20]\n",
    "\n",
    "#creating a list with square values of only the even numbers\n",
    "squareList = [var**2 for var in inputList if var%2==0]\n",
    "print(squareList)"
   ]
  },
  {
   "cell_type": "code",
   "execution_count": 12,
   "metadata": {},
   "outputs": [
    {
     "output_type": "stream",
     "name": "stdout",
     "text": [
      "[0, 4, 16, 36, 64]\n"
     ]
    }
   ],
   "source": [
    "#creating even square list for a range of numbers\n",
    "squarelist1 = [s**2 for s in range (10) if s%2 ==0]\n",
    "print(squarelist1)"
   ]
  },
  {
   "source": [
    "Exercise 1: Reverse a given list in Python"
   ],
   "cell_type": "markdown",
   "metadata": {}
  },
  {
   "cell_type": "code",
   "execution_count": 5,
   "metadata": {},
   "outputs": [
    {
     "output_type": "stream",
     "name": "stdout",
     "text": [
      "[500, 400, 300, 200, 100]\n"
     ]
    }
   ],
   "source": [
    "aList = [100, 200, 300, 400, 500]\n",
    "aList = aList[::-1]\n",
    "print(aList)"
   ]
  },
  {
   "source": [
    "Constructing a List"
   ],
   "cell_type": "markdown",
   "metadata": {}
  },
  {
   "source": [
    "thislist = list((\"apple\", \"banana\", \"cherry\")) # note the double round-brackets\n",
    "print(thislist)"
   ],
   "cell_type": "code",
   "metadata": {},
   "execution_count": null,
   "outputs": []
  },
  {
   "source": [
    "Exercise 10: Given a two list of numbers create a new list such that new list should contain only odd numbers from the first list and even numbers from the second list"
   ],
   "cell_type": "markdown",
   "metadata": {}
  },
  {
   "cell_type": "code",
   "execution_count": 43,
   "metadata": {},
   "outputs": [
    {
     "output_type": "stream",
     "name": "stdout",
     "text": [
      "[23, 11, 17, 24, 36, 12]\n"
     ]
    }
   ],
   "source": [
    "list1 = [10, 20, 23, 11, 17]\n",
    "list2 = [13, 43, 24, 36, 12]\n",
    "newList = []\n",
    "\n",
    "for i in list1:\n",
    "    if i%2 == 1:\n",
    "        newList.append(i)\n",
    "for j in list2:\n",
    "    if j%2 == 0:\n",
    "        newList.append(j)\n",
    "\n",
    "print(newList)"
   ]
  },
  {
   "source": [
    "Exercise 11: Write a code to extract each digit from an integer, in the reverse order"
   ],
   "cell_type": "markdown",
   "metadata": {}
  },
  {
   "cell_type": "code",
   "execution_count": 4,
   "metadata": {},
   "outputs": [
    {
     "output_type": "stream",
     "name": "stdout",
     "text": [
      "6357\n"
     ]
    }
   ],
   "source": [
    "#digit = int(input('Please provide an integer')\n",
    "digit = 7536\n",
    "reverse_digit = 0\n",
    "\n",
    "while digit > 0:\n",
    "    remainder = digit%10\n",
    "    reverse_digit = (reverse_digit*10) + remainder\n",
    "    digit = digit//10\n",
    "print(reverse_digit)\n"
   ]
  },
  {
   "source": [
    "Exercise 12: Calculate income tax for the given income by adhering to the below rules"
   ],
   "cell_type": "markdown",
   "metadata": {}
  },
  {
   "cell_type": "code",
   "execution_count": 13,
   "metadata": {},
   "outputs": [
    {
     "output_type": "stream",
     "name": "stdout",
     "text": [
      "6000.0\n"
     ]
    }
   ],
   "source": [
    "def income_tax(income):\n",
    "    if income < 10000:\n",
    "        return 0\n",
    "    else:\n",
    "        return (10000*0.1) + (income - 20000)*0.2\n",
    "\n",
    "print (income_tax(45000))"
   ]
  },
  {
   "source": [
    "Exercise 13: Print multiplication table form 1 to 10"
   ],
   "cell_type": "markdown",
   "metadata": {}
  },
  {
   "cell_type": "code",
   "execution_count": 23,
   "metadata": {},
   "outputs": [
    {
     "output_type": "stream",
     "name": "stdout",
     "text": [
      "12345678910\t\t\n2468101214161820\t\t\n36912151821242730\t\t\n481216202428323640\t\t\n5101520253035404550\t\t\n6121824303642485460\t\t\n7142128354249566370\t\t\n8162432404856647280\t\t\n9182736455463728190\t\t\n102030405060708090100\t\t\n"
     ]
    }
   ],
   "source": [
    "for i in range (1,11):\n",
    "    for j in range (1,11):\n",
    "        print (i*j, end = '')\n",
    "    print ('\\t\\t')\n"
   ]
  },
  {
   "source": [
    "Exercise 14: Print downward Half-Pyramid Pattern with Star (asterisk)"
   ],
   "cell_type": "markdown",
   "metadata": {}
  },
  {
   "cell_type": "code",
   "execution_count": 28,
   "metadata": {},
   "outputs": [
    {
     "output_type": "stream",
     "name": "stdout",
     "text": [
      "*****\n****\n***\n**\n*\n"
     ]
    }
   ],
   "source": [
    "row = 6\n",
    "\n",
    "for i in range (1, row):\n",
    "    print ('*'*(row-i))\n"
   ]
  },
  {
   "source": [
    "Alternative answer"
   ],
   "cell_type": "markdown",
   "metadata": {}
  },
  {
   "cell_type": "code",
   "execution_count": 31,
   "metadata": {},
   "outputs": [
    {
     "output_type": "stream",
     "name": "stdout",
     "text": [
      "*****\n****\n***\n**\n*\n\n"
     ]
    }
   ],
   "source": [
    "for i in range (6, 0, -1):\n",
    "    for j in range (0, i-1):\n",
    "        print ('*', end = '')\n",
    "    print ('')"
   ]
  },
  {
   "source": [
    "Exercise 15: Write a function called exponent(base, exp) that returns an int value of base raises to the power of exp."
   ],
   "cell_type": "markdown",
   "metadata": {}
  },
  {
   "cell_type": "code",
   "execution_count": 33,
   "metadata": {},
   "outputs": [
    {
     "output_type": "stream",
     "name": "stdout",
     "text": [
      "32\n"
     ]
    }
   ],
   "source": [
    "def exponent(base, exp):\n",
    "    return base**exp\n",
    "\n",
    "print(exponent (2,5))"
   ]
  },
  {
   "cell_type": "code",
   "execution_count": null,
   "metadata": {},
   "outputs": [],
   "source": [
    "Alternative answer"
   ]
  },
  {
   "cell_type": "code",
   "execution_count": 40,
   "metadata": {},
   "outputs": [
    {
     "output_type": "stream",
     "name": "stdout",
     "text": [
      "32\n"
     ]
    }
   ],
   "source": [
    "def exponent(base, exp):\n",
    "    result = 1\n",
    "    while exp > 0:\n",
    "        result = result * base\n",
    "        exp = exp - 1\n",
    "    print (result)\n",
    "\n",
    "exponent (2,5)"
   ]
  }
 ]
}