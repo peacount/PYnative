{
 "metadata": {
  "language_info": {
   "codemirror_mode": {
    "name": "ipython",
    "version": 3
   },
   "file_extension": ".py",
   "mimetype": "text/x-python",
   "name": "python",
   "nbconvert_exporter": "python",
   "pygments_lexer": "ipython3",
   "version": "3.9.1-final"
  },
  "orig_nbformat": 2,
  "kernelspec": {
   "name": "python391jvsc74a57bd0cc5d2894cf8fed0488a1186a7d9d6ef6896131398eb544c76112bd5bb0e9962d",
   "display_name": "Python 3.9.1 64-bit"
  },
  "metadata": {
   "interpreter": {
    "hash": "cc5d2894cf8fed0488a1186a7d9d6ef6896131398eb544c76112bd5bb0e9962d"
   }
  }
 },
 "nbformat": 4,
 "nbformat_minor": 2,
 "cells": [
  {
   "cell_type": "code",
   "execution_count": 1,
   "metadata": {},
   "outputs": [
    {
     "output_type": "stream",
     "name": "stdout",
     "text": [
      "c:\\Users\\jenny\\venvs\\py39\\PYnative\n"
     ]
    }
   ],
   "source": [
    "import os\n",
    "print(os.getcwd())"
   ]
  },
  {
   "cell_type": "code",
   "execution_count": 5,
   "metadata": {},
   "outputs": [],
   "source": [
    "os.chdir('C:\\\\Users\\\\jenny\\\\venvs\\\\py39\\\\Lib\\\\site-packages')\n",
    "import pandas as pd\n",
    "import matplotlib.pyplot as pyplot\n",
    "%matplotlib inline\n",
    "oo = pd.read_csv('C:\\\\Users\\\\jenny\\\\venvs\\\\py39\\\\PYnative\\\\Automobile_data.csv', header = 3)\n",
    "pd.options.display.max_rows = 20"
   ]
  },
  {
   "cell_type": "code",
   "execution_count": 6,
   "metadata": {},
   "outputs": [
    {
     "output_type": "execute_result",
     "data": {
      "text/plain": [
       "     2 alfa-romero hatchback   94.5  171.2 ohcv   six  154  19    16500\n",
       "53  81  volkswagen     sedan   97.3  171.7  ohc  four   85  27   7975.0\n",
       "54  82  volkswagen     sedan   97.3  171.7  ohc  four   52  37   7995.0\n",
       "55  86  volkswagen     sedan   97.3  171.7  ohc  four  100  26   9995.0\n",
       "56  87       volvo     sedan  104.3  188.8  ohc  four  114  23  12940.0\n",
       "57  88       volvo     wagon  104.3  188.8  ohc  four  114  23  13415.0"
      ],
      "text/html": "<div>\n<style scoped>\n    .dataframe tbody tr th:only-of-type {\n        vertical-align: middle;\n    }\n\n    .dataframe tbody tr th {\n        vertical-align: top;\n    }\n\n    .dataframe thead th {\n        text-align: right;\n    }\n</style>\n<table border=\"1\" class=\"dataframe\">\n  <thead>\n    <tr style=\"text-align: right;\">\n      <th></th>\n      <th>2</th>\n      <th>alfa-romero</th>\n      <th>hatchback</th>\n      <th>94.5</th>\n      <th>171.2</th>\n      <th>ohcv</th>\n      <th>six</th>\n      <th>154</th>\n      <th>19</th>\n      <th>16500</th>\n    </tr>\n  </thead>\n  <tbody>\n    <tr>\n      <th>53</th>\n      <td>81</td>\n      <td>volkswagen</td>\n      <td>sedan</td>\n      <td>97.3</td>\n      <td>171.7</td>\n      <td>ohc</td>\n      <td>four</td>\n      <td>85</td>\n      <td>27</td>\n      <td>7975.0</td>\n    </tr>\n    <tr>\n      <th>54</th>\n      <td>82</td>\n      <td>volkswagen</td>\n      <td>sedan</td>\n      <td>97.3</td>\n      <td>171.7</td>\n      <td>ohc</td>\n      <td>four</td>\n      <td>52</td>\n      <td>37</td>\n      <td>7995.0</td>\n    </tr>\n    <tr>\n      <th>55</th>\n      <td>86</td>\n      <td>volkswagen</td>\n      <td>sedan</td>\n      <td>97.3</td>\n      <td>171.7</td>\n      <td>ohc</td>\n      <td>four</td>\n      <td>100</td>\n      <td>26</td>\n      <td>9995.0</td>\n    </tr>\n    <tr>\n      <th>56</th>\n      <td>87</td>\n      <td>volvo</td>\n      <td>sedan</td>\n      <td>104.3</td>\n      <td>188.8</td>\n      <td>ohc</td>\n      <td>four</td>\n      <td>114</td>\n      <td>23</td>\n      <td>12940.0</td>\n    </tr>\n    <tr>\n      <th>57</th>\n      <td>88</td>\n      <td>volvo</td>\n      <td>wagon</td>\n      <td>104.3</td>\n      <td>188.8</td>\n      <td>ohc</td>\n      <td>four</td>\n      <td>114</td>\n      <td>23</td>\n      <td>13415.0</td>\n    </tr>\n  </tbody>\n</table>\n</div>"
     },
     "metadata": {},
     "execution_count": 6
    }
   ],
   "source": [
    "oo.tail() # oo.tail(5) also works"
   ]
  },
  {
   "source": [
    "https://pynative.com/python-pandas-read-csv/"
   ],
   "cell_type": "markdown",
   "metadata": {}
  },
  {
   "source": [
    "Get element from DataFrame"
   ],
   "cell_type": "markdown",
   "metadata": {}
  },
  {
   "cell_type": "code",
   "execution_count": 5,
   "metadata": {},
   "outputs": [
    {
     "output_type": "execute_result",
     "data": {
      "text/plain": [
       "'audi'"
      ]
     },
     "metadata": {},
     "execution_count": 5
    }
   ],
   "source": [
    "oo.at[3, 'company']"
   ]
  },
  {
   "source": [
    "Read CSV with a column header"
   ],
   "cell_type": "markdown",
   "metadata": {}
  },
  {
   "cell_type": "code",
   "execution_count": 45,
   "metadata": {},
   "outputs": [
    {
     "output_type": "execute_result",
     "data": {
      "text/plain": [
       "     2 alfa-romero hatchback   94.5  171.2 ohcv   six  154  19    16500\n",
       "0    3        audi     sedan   99.8  176.6  ohc  four  102  24  13950.0\n",
       "1    4        audi     sedan   99.4  176.6  ohc  five  115  18  17450.0\n",
       "2    5        audi     sedan   99.8  177.3  ohc  five  110  19  15250.0\n",
       "3    6        audi     wagon  105.8  192.7  ohc  five  110  19  18920.0\n",
       "4    9         bmw     sedan  101.2  176.8  ohc  four  101  23  16430.0\n",
       "..  ..         ...       ...    ...    ...  ...   ...  ...  ..      ...\n",
       "53  81  volkswagen     sedan   97.3  171.7  ohc  four   85  27   7975.0\n",
       "54  82  volkswagen     sedan   97.3  171.7  ohc  four   52  37   7995.0\n",
       "55  86  volkswagen     sedan   97.3  171.7  ohc  four  100  26   9995.0\n",
       "56  87       volvo     sedan  104.3  188.8  ohc  four  114  23  12940.0\n",
       "57  88       volvo     wagon  104.3  188.8  ohc  four  114  23  13415.0\n",
       "\n",
       "[58 rows x 10 columns]"
      ],
      "text/html": "<div>\n<style scoped>\n    .dataframe tbody tr th:only-of-type {\n        vertical-align: middle;\n    }\n\n    .dataframe tbody tr th {\n        vertical-align: top;\n    }\n\n    .dataframe thead th {\n        text-align: right;\n    }\n</style>\n<table border=\"1\" class=\"dataframe\">\n  <thead>\n    <tr style=\"text-align: right;\">\n      <th></th>\n      <th>2</th>\n      <th>alfa-romero</th>\n      <th>hatchback</th>\n      <th>94.5</th>\n      <th>171.2</th>\n      <th>ohcv</th>\n      <th>six</th>\n      <th>154</th>\n      <th>19</th>\n      <th>16500</th>\n    </tr>\n  </thead>\n  <tbody>\n    <tr>\n      <th>0</th>\n      <td>3</td>\n      <td>audi</td>\n      <td>sedan</td>\n      <td>99.8</td>\n      <td>176.6</td>\n      <td>ohc</td>\n      <td>four</td>\n      <td>102</td>\n      <td>24</td>\n      <td>13950.0</td>\n    </tr>\n    <tr>\n      <th>1</th>\n      <td>4</td>\n      <td>audi</td>\n      <td>sedan</td>\n      <td>99.4</td>\n      <td>176.6</td>\n      <td>ohc</td>\n      <td>five</td>\n      <td>115</td>\n      <td>18</td>\n      <td>17450.0</td>\n    </tr>\n    <tr>\n      <th>2</th>\n      <td>5</td>\n      <td>audi</td>\n      <td>sedan</td>\n      <td>99.8</td>\n      <td>177.3</td>\n      <td>ohc</td>\n      <td>five</td>\n      <td>110</td>\n      <td>19</td>\n      <td>15250.0</td>\n    </tr>\n    <tr>\n      <th>3</th>\n      <td>6</td>\n      <td>audi</td>\n      <td>wagon</td>\n      <td>105.8</td>\n      <td>192.7</td>\n      <td>ohc</td>\n      <td>five</td>\n      <td>110</td>\n      <td>19</td>\n      <td>18920.0</td>\n    </tr>\n    <tr>\n      <th>4</th>\n      <td>9</td>\n      <td>bmw</td>\n      <td>sedan</td>\n      <td>101.2</td>\n      <td>176.8</td>\n      <td>ohc</td>\n      <td>four</td>\n      <td>101</td>\n      <td>23</td>\n      <td>16430.0</td>\n    </tr>\n    <tr>\n      <th>...</th>\n      <td>...</td>\n      <td>...</td>\n      <td>...</td>\n      <td>...</td>\n      <td>...</td>\n      <td>...</td>\n      <td>...</td>\n      <td>...</td>\n      <td>...</td>\n      <td>...</td>\n    </tr>\n    <tr>\n      <th>53</th>\n      <td>81</td>\n      <td>volkswagen</td>\n      <td>sedan</td>\n      <td>97.3</td>\n      <td>171.7</td>\n      <td>ohc</td>\n      <td>four</td>\n      <td>85</td>\n      <td>27</td>\n      <td>7975.0</td>\n    </tr>\n    <tr>\n      <th>54</th>\n      <td>82</td>\n      <td>volkswagen</td>\n      <td>sedan</td>\n      <td>97.3</td>\n      <td>171.7</td>\n      <td>ohc</td>\n      <td>four</td>\n      <td>52</td>\n      <td>37</td>\n      <td>7995.0</td>\n    </tr>\n    <tr>\n      <th>55</th>\n      <td>86</td>\n      <td>volkswagen</td>\n      <td>sedan</td>\n      <td>97.3</td>\n      <td>171.7</td>\n      <td>ohc</td>\n      <td>four</td>\n      <td>100</td>\n      <td>26</td>\n      <td>9995.0</td>\n    </tr>\n    <tr>\n      <th>56</th>\n      <td>87</td>\n      <td>volvo</td>\n      <td>sedan</td>\n      <td>104.3</td>\n      <td>188.8</td>\n      <td>ohc</td>\n      <td>four</td>\n      <td>114</td>\n      <td>23</td>\n      <td>12940.0</td>\n    </tr>\n    <tr>\n      <th>57</th>\n      <td>88</td>\n      <td>volvo</td>\n      <td>wagon</td>\n      <td>104.3</td>\n      <td>188.8</td>\n      <td>ohc</td>\n      <td>four</td>\n      <td>114</td>\n      <td>23</td>\n      <td>13415.0</td>\n    </tr>\n  </tbody>\n</table>\n<p>58 rows × 10 columns</p>\n</div>"
     },
     "metadata": {},
     "execution_count": 45
    }
   ],
   "source": [
    "oo = pd.read_csv('C:\\\\Users\\\\jenny\\\\venvs\\\\py39\\\\PYnative\\\\Automobile_data.csv', header = 3)\n",
    "pd.options.display.max_rows = 20\n",
    "oo"
   ]
  },
  {
   "source": [
    "read CSV with a multi-index column header"
   ],
   "cell_type": "markdown",
   "metadata": {}
  },
  {
   "cell_type": "code",
   "execution_count": 7,
   "metadata": {},
   "outputs": [
    {
     "output_type": "execute_result",
     "data": {
      "text/plain": [
       "   index      company   body-style wheel-base length engine-type  \\\n",
       "       0  alfa-romero  convertible       88.6  168.8        dohc   \n",
       "0      1  alfa-romero  convertible       88.6  168.8        dohc   \n",
       "1      2  alfa-romero    hatchback       94.5  171.2        ohcv   \n",
       "2      3         audi        sedan       99.8  176.6         ohc   \n",
       "3      4         audi        sedan       99.4  176.6         ohc   \n",
       "4      5         audi        sedan       99.8  177.3         ohc   \n",
       "..   ...          ...          ...        ...    ...         ...   \n",
       "55    81   volkswagen        sedan       97.3  171.7         ohc   \n",
       "56    82   volkswagen        sedan       97.3  171.7         ohc   \n",
       "57    86   volkswagen        sedan       97.3  171.7         ohc   \n",
       "58    87        volvo        sedan      104.3  188.8         ohc   \n",
       "59    88        volvo        wagon      104.3  188.8         ohc   \n",
       "\n",
       "   num-of-cylinders horsepower average-mileage    price  \n",
       "               four        111              21    13495  \n",
       "0              four        111              21  16500.0  \n",
       "1               six        154              19  16500.0  \n",
       "2              four        102              24  13950.0  \n",
       "3              five        115              18  17450.0  \n",
       "4              five        110              19  15250.0  \n",
       "..              ...        ...             ...      ...  \n",
       "55             four         85              27   7975.0  \n",
       "56             four         52              37   7995.0  \n",
       "57             four        100              26   9995.0  \n",
       "58             four        114              23  12940.0  \n",
       "59             four        114              23  13415.0  \n",
       "\n",
       "[60 rows x 10 columns]"
      ],
      "text/html": "<div>\n<style scoped>\n    .dataframe tbody tr th:only-of-type {\n        vertical-align: middle;\n    }\n\n    .dataframe tbody tr th {\n        vertical-align: top;\n    }\n\n    .dataframe thead tr th {\n        text-align: left;\n    }\n</style>\n<table border=\"1\" class=\"dataframe\">\n  <thead>\n    <tr>\n      <th></th>\n      <th>index</th>\n      <th>company</th>\n      <th>body-style</th>\n      <th>wheel-base</th>\n      <th>length</th>\n      <th>engine-type</th>\n      <th>num-of-cylinders</th>\n      <th>horsepower</th>\n      <th>average-mileage</th>\n      <th>price</th>\n    </tr>\n    <tr>\n      <th></th>\n      <th>0</th>\n      <th>alfa-romero</th>\n      <th>convertible</th>\n      <th>88.6</th>\n      <th>168.8</th>\n      <th>dohc</th>\n      <th>four</th>\n      <th>111</th>\n      <th>21</th>\n      <th>13495</th>\n    </tr>\n  </thead>\n  <tbody>\n    <tr>\n      <th>0</th>\n      <td>1</td>\n      <td>alfa-romero</td>\n      <td>convertible</td>\n      <td>88.6</td>\n      <td>168.8</td>\n      <td>dohc</td>\n      <td>four</td>\n      <td>111</td>\n      <td>21</td>\n      <td>16500.0</td>\n    </tr>\n    <tr>\n      <th>1</th>\n      <td>2</td>\n      <td>alfa-romero</td>\n      <td>hatchback</td>\n      <td>94.5</td>\n      <td>171.2</td>\n      <td>ohcv</td>\n      <td>six</td>\n      <td>154</td>\n      <td>19</td>\n      <td>16500.0</td>\n    </tr>\n    <tr>\n      <th>2</th>\n      <td>3</td>\n      <td>audi</td>\n      <td>sedan</td>\n      <td>99.8</td>\n      <td>176.6</td>\n      <td>ohc</td>\n      <td>four</td>\n      <td>102</td>\n      <td>24</td>\n      <td>13950.0</td>\n    </tr>\n    <tr>\n      <th>3</th>\n      <td>4</td>\n      <td>audi</td>\n      <td>sedan</td>\n      <td>99.4</td>\n      <td>176.6</td>\n      <td>ohc</td>\n      <td>five</td>\n      <td>115</td>\n      <td>18</td>\n      <td>17450.0</td>\n    </tr>\n    <tr>\n      <th>4</th>\n      <td>5</td>\n      <td>audi</td>\n      <td>sedan</td>\n      <td>99.8</td>\n      <td>177.3</td>\n      <td>ohc</td>\n      <td>five</td>\n      <td>110</td>\n      <td>19</td>\n      <td>15250.0</td>\n    </tr>\n    <tr>\n      <th>...</th>\n      <td>...</td>\n      <td>...</td>\n      <td>...</td>\n      <td>...</td>\n      <td>...</td>\n      <td>...</td>\n      <td>...</td>\n      <td>...</td>\n      <td>...</td>\n      <td>...</td>\n    </tr>\n    <tr>\n      <th>55</th>\n      <td>81</td>\n      <td>volkswagen</td>\n      <td>sedan</td>\n      <td>97.3</td>\n      <td>171.7</td>\n      <td>ohc</td>\n      <td>four</td>\n      <td>85</td>\n      <td>27</td>\n      <td>7975.0</td>\n    </tr>\n    <tr>\n      <th>56</th>\n      <td>82</td>\n      <td>volkswagen</td>\n      <td>sedan</td>\n      <td>97.3</td>\n      <td>171.7</td>\n      <td>ohc</td>\n      <td>four</td>\n      <td>52</td>\n      <td>37</td>\n      <td>7995.0</td>\n    </tr>\n    <tr>\n      <th>57</th>\n      <td>86</td>\n      <td>volkswagen</td>\n      <td>sedan</td>\n      <td>97.3</td>\n      <td>171.7</td>\n      <td>ohc</td>\n      <td>four</td>\n      <td>100</td>\n      <td>26</td>\n      <td>9995.0</td>\n    </tr>\n    <tr>\n      <th>58</th>\n      <td>87</td>\n      <td>volvo</td>\n      <td>sedan</td>\n      <td>104.3</td>\n      <td>188.8</td>\n      <td>ohc</td>\n      <td>four</td>\n      <td>114</td>\n      <td>23</td>\n      <td>12940.0</td>\n    </tr>\n    <tr>\n      <th>59</th>\n      <td>88</td>\n      <td>volvo</td>\n      <td>wagon</td>\n      <td>104.3</td>\n      <td>188.8</td>\n      <td>ohc</td>\n      <td>four</td>\n      <td>114</td>\n      <td>23</td>\n      <td>13415.0</td>\n    </tr>\n  </tbody>\n</table>\n<p>60 rows × 10 columns</p>\n</div>"
     },
     "metadata": {},
     "execution_count": 7
    }
   ],
   "source": [
    "oo = pd.read_csv('C:\\\\Users\\\\jenny\\\\venvs\\\\py39\\\\PYnative\\\\Automobile_data.csv', header = [0, 1])\n",
    "pd.options.display.max_rows = 20\n",
    "oo"
   ]
  },
  {
   "source": [
    "Read CSV without a column header"
   ],
   "cell_type": "markdown",
   "metadata": {}
  },
  {
   "cell_type": "code",
   "execution_count": 8,
   "metadata": {},
   "outputs": [
    {
     "output_type": "execute_result",
     "data": {
      "text/plain": [
       "Index(['company_name', 'type', 'len', 'etype', 'milage', 'sunroof'], dtype='object')"
      ]
     },
     "metadata": {},
     "execution_count": 8
    }
   ],
   "source": [
    "oo = pd.read_csv('C:\\\\Users\\\\jenny\\\\venvs\\\\py39\\\\PYnative\\\\Automobile_data.csv', names = ['company_name', 'type', 'len','etype','milage', 'sunroof'])\n",
    "oo.columns"
   ]
  },
  {
   "source": [
    "Default column header"
   ],
   "cell_type": "markdown",
   "metadata": {}
  },
  {
   "cell_type": "code",
   "execution_count": 9,
   "metadata": {},
   "outputs": [
    {
     "output_type": "execute_result",
     "data": {
      "text/plain": [
       "Index(['Col_0', 'Col_1', 'Col_2', 'Col_3', 'Col_4', 'Col_5', 'Col_6', 'Col_7',\n",
       "       'Col_8', 'Col_9'],\n",
       "      dtype='object')"
      ]
     },
     "metadata": {},
     "execution_count": 9
    }
   ],
   "source": [
    "oo = pd.read_csv('C:\\\\Users\\\\jenny\\\\venvs\\\\py39\\\\PYnative\\\\Automobile_data.csv', header=None, prefix='Col_')\n",
    "oo.columns"
   ]
  },
  {
   "source": [
    "https://pynative.com/python-pandas-dataframe/"
   ],
   "cell_type": "markdown",
   "metadata": {}
  },
  {
   "source": [
    "Dataframe from dict"
   ],
   "cell_type": "markdown",
   "metadata": {}
  },
  {
   "cell_type": "code",
   "execution_count": 10,
   "metadata": {},
   "outputs": [
    {
     "output_type": "execute_result",
     "data": {
      "text/plain": [
       "    Name  Age  Marks\n",
       "0    Joe   20  85.10\n",
       "1    Nat   21  77.80\n",
       "2  Harry   19  91.54"
      ],
      "text/html": "<div>\n<style scoped>\n    .dataframe tbody tr th:only-of-type {\n        vertical-align: middle;\n    }\n\n    .dataframe tbody tr th {\n        vertical-align: top;\n    }\n\n    .dataframe thead th {\n        text-align: right;\n    }\n</style>\n<table border=\"1\" class=\"dataframe\">\n  <thead>\n    <tr style=\"text-align: right;\">\n      <th></th>\n      <th>Name</th>\n      <th>Age</th>\n      <th>Marks</th>\n    </tr>\n  </thead>\n  <tbody>\n    <tr>\n      <th>0</th>\n      <td>Joe</td>\n      <td>20</td>\n      <td>85.10</td>\n    </tr>\n    <tr>\n      <th>1</th>\n      <td>Nat</td>\n      <td>21</td>\n      <td>77.80</td>\n    </tr>\n    <tr>\n      <th>2</th>\n      <td>Harry</td>\n      <td>19</td>\n      <td>91.54</td>\n    </tr>\n  </tbody>\n</table>\n</div>"
     },
     "metadata": {},
     "execution_count": 10
    }
   ],
   "source": [
    "student_dict = {'Name': ['Joe', 'Nat', 'Harry'], 'Age': [20, 21, 19], 'Marks' : [85.10, 77.80, 91.54]}\n",
    "student_df = pd.DataFrame(student_dict)\n",
    "student_df"
   ]
  },
  {
   "cell_type": "code",
   "execution_count": 11,
   "metadata": {},
   "outputs": [
    {
     "output_type": "execute_result",
     "data": {
      "text/plain": [
       "        Age      Marks\n",
       "count   3.0   3.000000\n",
       "mean   20.0  84.813333\n",
       "std     1.0   6.874484\n",
       "min    19.0  77.800000\n",
       "25%    19.5  81.450000\n",
       "50%    20.0  85.100000\n",
       "75%    20.5  88.320000\n",
       "max    21.0  91.540000"
      ],
      "text/html": "<div>\n<style scoped>\n    .dataframe tbody tr th:only-of-type {\n        vertical-align: middle;\n    }\n\n    .dataframe tbody tr th {\n        vertical-align: top;\n    }\n\n    .dataframe thead th {\n        text-align: right;\n    }\n</style>\n<table border=\"1\" class=\"dataframe\">\n  <thead>\n    <tr style=\"text-align: right;\">\n      <th></th>\n      <th>Age</th>\n      <th>Marks</th>\n    </tr>\n  </thead>\n  <tbody>\n    <tr>\n      <th>count</th>\n      <td>3.0</td>\n      <td>3.000000</td>\n    </tr>\n    <tr>\n      <th>mean</th>\n      <td>20.0</td>\n      <td>84.813333</td>\n    </tr>\n    <tr>\n      <th>std</th>\n      <td>1.0</td>\n      <td>6.874484</td>\n    </tr>\n    <tr>\n      <th>min</th>\n      <td>19.0</td>\n      <td>77.800000</td>\n    </tr>\n    <tr>\n      <th>25%</th>\n      <td>19.5</td>\n      <td>81.450000</td>\n    </tr>\n    <tr>\n      <th>50%</th>\n      <td>20.0</td>\n      <td>85.100000</td>\n    </tr>\n    <tr>\n      <th>75%</th>\n      <td>20.5</td>\n      <td>88.320000</td>\n    </tr>\n    <tr>\n      <th>max</th>\n      <td>21.0</td>\n      <td>91.540000</td>\n    </tr>\n  </tbody>\n</table>\n</div>"
     },
     "metadata": {},
     "execution_count": 11
    }
   ],
   "source": [
    "student_df.describe()"
   ]
  },
  {
   "cell_type": "code",
   "execution_count": 12,
   "metadata": {},
   "outputs": [
    {
     "output_type": "execute_result",
     "data": {
      "text/plain": [
       "RangeIndex(start=0, stop=3, step=1)"
      ]
     },
     "metadata": {},
     "execution_count": 12
    }
   ],
   "source": [
    "student_df.index"
   ]
  },
  {
   "cell_type": "code",
   "execution_count": 13,
   "metadata": {},
   "outputs": [
    {
     "output_type": "execute_result",
     "data": {
      "text/plain": [
       "Index(['Name', 'Age', 'Marks'], dtype='object')"
      ]
     },
     "metadata": {},
     "execution_count": 13
    }
   ],
   "source": [
    "student_df.columns"
   ]
  },
  {
   "cell_type": "code",
   "execution_count": 14,
   "metadata": {},
   "outputs": [
    {
     "output_type": "execute_result",
     "data": {
      "text/plain": [
       "False"
      ]
     },
     "metadata": {},
     "execution_count": 14
    }
   ],
   "source": [
    "student_df.empty"
   ]
  },
  {
   "cell_type": "code",
   "execution_count": 15,
   "metadata": {},
   "outputs": [
    {
     "output_type": "execute_result",
     "data": {
      "text/plain": [
       "(3, 3)"
      ]
     },
     "metadata": {},
     "execution_count": 15
    }
   ],
   "source": [
    "student_df.shape"
   ]
  },
  {
   "cell_type": "code",
   "execution_count": 16,
   "metadata": {},
   "outputs": [
    {
     "output_type": "execute_result",
     "data": {
      "text/plain": [
       "9"
      ]
     },
     "metadata": {},
     "execution_count": 16
    }
   ],
   "source": [
    "student_df.size"
   ]
  },
  {
   "cell_type": "code",
   "execution_count": 17,
   "metadata": {},
   "outputs": [
    {
     "output_type": "execute_result",
     "data": {
      "text/plain": [
       "array([['Joe', 20, 85.1],\n",
       "       ['Nat', 21, 77.8],\n",
       "       ['Harry', 19, 91.54]], dtype=object)"
      ]
     },
     "metadata": {},
     "execution_count": 17
    }
   ],
   "source": [
    "student_df.values"
   ]
  },
  {
   "source": [
    "DataFrame selection"
   ],
   "cell_type": "markdown",
   "metadata": {}
  },
  {
   "cell_type": "code",
   "execution_count": 18,
   "metadata": {},
   "outputs": [
    {
     "output_type": "execute_result",
     "data": {
      "text/plain": [
       "'Joe'"
      ]
     },
     "metadata": {},
     "execution_count": 18
    }
   ],
   "source": [
    "student_df.at[0, 'Name']"
   ]
  },
  {
   "cell_type": "code",
   "execution_count": 19,
   "metadata": {},
   "outputs": [
    {
     "output_type": "execute_result",
     "data": {
      "text/plain": [
       "'Joe'"
      ]
     },
     "metadata": {},
     "execution_count": 19
    }
   ],
   "source": [
    "student_df.iat[0,0]"
   ]
  },
  {
   "cell_type": "code",
   "execution_count": 20,
   "metadata": {},
   "outputs": [
    {
     "output_type": "execute_result",
     "data": {
      "text/plain": [
       "0      Joe\n",
       "1      Nat\n",
       "2    Harry\n",
       "Name: Name, dtype: object"
      ]
     },
     "metadata": {},
     "execution_count": 20
    }
   ],
   "source": [
    "student_df.get('Name')"
   ]
  },
  {
   "cell_type": "code",
   "execution_count": 21,
   "metadata": {},
   "outputs": [
    {
     "output_type": "execute_result",
     "data": {
      "text/plain": [
       "  Name  Age\n",
       "0  Joe   20\n",
       "1  Nat   21"
      ],
      "text/html": "<div>\n<style scoped>\n    .dataframe tbody tr th:only-of-type {\n        vertical-align: middle;\n    }\n\n    .dataframe tbody tr th {\n        vertical-align: top;\n    }\n\n    .dataframe thead th {\n        text-align: right;\n    }\n</style>\n<table border=\"1\" class=\"dataframe\">\n  <thead>\n    <tr style=\"text-align: right;\">\n      <th></th>\n      <th>Name</th>\n      <th>Age</th>\n    </tr>\n  </thead>\n  <tbody>\n    <tr>\n      <th>0</th>\n      <td>Joe</td>\n      <td>20</td>\n    </tr>\n    <tr>\n      <th>1</th>\n      <td>Nat</td>\n      <td>21</td>\n    </tr>\n  </tbody>\n</table>\n</div>"
     },
     "metadata": {},
     "execution_count": 21
    }
   ],
   "source": [
    "student_df.iloc[0:2, 0:2]"
   ]
  },
  {
   "source": [
    "DataFrame modification"
   ],
   "cell_type": "markdown",
   "metadata": {}
  },
  {
   "cell_type": "code",
   "execution_count": 24,
   "metadata": {},
   "outputs": [
    {
     "output_type": "execute_result",
     "data": {
      "text/plain": [
       "    Name  Age Class  Marks\n",
       "0    Joe   20     A  85.10\n",
       "1    Nat   21     A  77.80\n",
       "2  Harry   19     A  91.54"
      ],
      "text/html": "<div>\n<style scoped>\n    .dataframe tbody tr th:only-of-type {\n        vertical-align: middle;\n    }\n\n    .dataframe tbody tr th {\n        vertical-align: top;\n    }\n\n    .dataframe thead th {\n        text-align: right;\n    }\n</style>\n<table border=\"1\" class=\"dataframe\">\n  <thead>\n    <tr style=\"text-align: right;\">\n      <th></th>\n      <th>Name</th>\n      <th>Age</th>\n      <th>Class</th>\n      <th>Marks</th>\n    </tr>\n  </thead>\n  <tbody>\n    <tr>\n      <th>0</th>\n      <td>Joe</td>\n      <td>20</td>\n      <td>A</td>\n      <td>85.10</td>\n    </tr>\n    <tr>\n      <th>1</th>\n      <td>Nat</td>\n      <td>21</td>\n      <td>A</td>\n      <td>77.80</td>\n    </tr>\n    <tr>\n      <th>2</th>\n      <td>Harry</td>\n      <td>19</td>\n      <td>A</td>\n      <td>91.54</td>\n    </tr>\n  </tbody>\n</table>\n</div>"
     },
     "metadata": {},
     "execution_count": 24
    }
   ],
   "source": [
    "student_df"
   ]
  },
  {
   "cell_type": "code",
   "execution_count": 25,
   "metadata": {},
   "outputs": [
    {
     "output_type": "execute_result",
     "data": {
      "text/plain": [
       "    Name  Age Class2 Class  Marks\n",
       "0    Joe   20      A     A  85.10\n",
       "1    Nat   21      A     A  77.80\n",
       "2  Harry   19      A     A  91.54"
      ],
      "text/html": "<div>\n<style scoped>\n    .dataframe tbody tr th:only-of-type {\n        vertical-align: middle;\n    }\n\n    .dataframe tbody tr th {\n        vertical-align: top;\n    }\n\n    .dataframe thead th {\n        text-align: right;\n    }\n</style>\n<table border=\"1\" class=\"dataframe\">\n  <thead>\n    <tr style=\"text-align: right;\">\n      <th></th>\n      <th>Name</th>\n      <th>Age</th>\n      <th>Class2</th>\n      <th>Class</th>\n      <th>Marks</th>\n    </tr>\n  </thead>\n  <tbody>\n    <tr>\n      <th>0</th>\n      <td>Joe</td>\n      <td>20</td>\n      <td>A</td>\n      <td>A</td>\n      <td>85.10</td>\n    </tr>\n    <tr>\n      <th>1</th>\n      <td>Nat</td>\n      <td>21</td>\n      <td>A</td>\n      <td>A</td>\n      <td>77.80</td>\n    </tr>\n    <tr>\n      <th>2</th>\n      <td>Harry</td>\n      <td>19</td>\n      <td>A</td>\n      <td>A</td>\n      <td>91.54</td>\n    </tr>\n  </tbody>\n</table>\n</div>"
     },
     "metadata": {},
     "execution_count": 25
    }
   ],
   "source": [
    "student_df.insert(loc=2, column='Class2', value='A')\n",
    "student_df"
   ]
  },
  {
   "cell_type": "code",
   "execution_count": 26,
   "metadata": {},
   "outputs": [
    {
     "output_type": "execute_result",
     "data": {
      "text/plain": [
       "    Name  Age Class  Marks\n",
       "0    Joe   20     A  85.10\n",
       "1    Nat   21     A  77.80\n",
       "2  Harry   19     A  91.54"
      ],
      "text/html": "<div>\n<style scoped>\n    .dataframe tbody tr th:only-of-type {\n        vertical-align: middle;\n    }\n\n    .dataframe tbody tr th {\n        vertical-align: top;\n    }\n\n    .dataframe thead th {\n        text-align: right;\n    }\n</style>\n<table border=\"1\" class=\"dataframe\">\n  <thead>\n    <tr style=\"text-align: right;\">\n      <th></th>\n      <th>Name</th>\n      <th>Age</th>\n      <th>Class</th>\n      <th>Marks</th>\n    </tr>\n  </thead>\n  <tbody>\n    <tr>\n      <th>0</th>\n      <td>Joe</td>\n      <td>20</td>\n      <td>A</td>\n      <td>85.10</td>\n    </tr>\n    <tr>\n      <th>1</th>\n      <td>Nat</td>\n      <td>21</td>\n      <td>A</td>\n      <td>77.80</td>\n    </tr>\n    <tr>\n      <th>2</th>\n      <td>Harry</td>\n      <td>19</td>\n      <td>A</td>\n      <td>91.54</td>\n    </tr>\n  </tbody>\n</table>\n</div>"
     },
     "metadata": {},
     "execution_count": 26
    }
   ],
   "source": [
    "student_df.drop(columns='Class2')"
   ]
  },
  {
   "cell_type": "code",
   "execution_count": 27,
   "metadata": {},
   "outputs": [
    {
     "output_type": "execute_result",
     "data": {
      "text/plain": [
       "    Name  Age Class2 Class  Marks\n",
       "0    Joe   20      A     A  85.10\n",
       "1    Nat   21      A     A   0.00\n",
       "2  Harry   19      A     A  91.54"
      ],
      "text/html": "<div>\n<style scoped>\n    .dataframe tbody tr th:only-of-type {\n        vertical-align: middle;\n    }\n\n    .dataframe tbody tr th {\n        vertical-align: top;\n    }\n\n    .dataframe thead th {\n        text-align: right;\n    }\n</style>\n<table border=\"1\" class=\"dataframe\">\n  <thead>\n    <tr style=\"text-align: right;\">\n      <th></th>\n      <th>Name</th>\n      <th>Age</th>\n      <th>Class2</th>\n      <th>Class</th>\n      <th>Marks</th>\n    </tr>\n  </thead>\n  <tbody>\n    <tr>\n      <th>0</th>\n      <td>Joe</td>\n      <td>20</td>\n      <td>A</td>\n      <td>A</td>\n      <td>85.10</td>\n    </tr>\n    <tr>\n      <th>1</th>\n      <td>Nat</td>\n      <td>21</td>\n      <td>A</td>\n      <td>A</td>\n      <td>0.00</td>\n    </tr>\n    <tr>\n      <th>2</th>\n      <td>Harry</td>\n      <td>19</td>\n      <td>A</td>\n      <td>A</td>\n      <td>91.54</td>\n    </tr>\n  </tbody>\n</table>\n</div>"
     },
     "metadata": {},
     "execution_count": 27
    }
   ],
   "source": [
    "filter = student_df['Marks'] > 80\n",
    "student_df['Marks'].where(filter, other=0, inplace=True)\n",
    "student_df"
   ]
  },
  {
   "source": [
    "DataFrame filter columns\n",
    "\n",
    "In the below example, we only include the column with a column label that starts with ‘N’."
   ],
   "cell_type": "markdown",
   "metadata": {}
  },
  {
   "cell_type": "code",
   "execution_count": 28,
   "metadata": {},
   "outputs": [
    {
     "output_type": "execute_result",
     "data": {
      "text/plain": [
       "    Name\n",
       "0    Joe\n",
       "1    Nat\n",
       "2  Harry"
      ],
      "text/html": "<div>\n<style scoped>\n    .dataframe tbody tr th:only-of-type {\n        vertical-align: middle;\n    }\n\n    .dataframe tbody tr th {\n        vertical-align: top;\n    }\n\n    .dataframe thead th {\n        text-align: right;\n    }\n</style>\n<table border=\"1\" class=\"dataframe\">\n  <thead>\n    <tr style=\"text-align: right;\">\n      <th></th>\n      <th>Name</th>\n    </tr>\n  </thead>\n  <tbody>\n    <tr>\n      <th>0</th>\n      <td>Joe</td>\n    </tr>\n    <tr>\n      <th>1</th>\n      <td>Nat</td>\n    </tr>\n    <tr>\n      <th>2</th>\n      <td>Harry</td>\n    </tr>\n  </tbody>\n</table>\n</div>"
     },
     "metadata": {},
     "execution_count": 28
    }
   ],
   "source": [
    "student_df.filter(like = 'N', axis='columns')"
   ]
  },
  {
   "source": [
    "DataFrame rename columns"
   ],
   "cell_type": "markdown",
   "metadata": {}
  },
  {
   "cell_type": "code",
   "execution_count": 29,
   "metadata": {},
   "outputs": [
    {
     "output_type": "execute_result",
     "data": {
      "text/plain": [
       "    Name  Age Class2 Class  Percentage\n",
       "0    Joe   20      A     A       85.10\n",
       "1    Nat   21      A     A        0.00\n",
       "2  Harry   19      A     A       91.54"
      ],
      "text/html": "<div>\n<style scoped>\n    .dataframe tbody tr th:only-of-type {\n        vertical-align: middle;\n    }\n\n    .dataframe tbody tr th {\n        vertical-align: top;\n    }\n\n    .dataframe thead th {\n        text-align: right;\n    }\n</style>\n<table border=\"1\" class=\"dataframe\">\n  <thead>\n    <tr style=\"text-align: right;\">\n      <th></th>\n      <th>Name</th>\n      <th>Age</th>\n      <th>Class2</th>\n      <th>Class</th>\n      <th>Percentage</th>\n    </tr>\n  </thead>\n  <tbody>\n    <tr>\n      <th>0</th>\n      <td>Joe</td>\n      <td>20</td>\n      <td>A</td>\n      <td>A</td>\n      <td>85.10</td>\n    </tr>\n    <tr>\n      <th>1</th>\n      <td>Nat</td>\n      <td>21</td>\n      <td>A</td>\n      <td>A</td>\n      <td>0.00</td>\n    </tr>\n    <tr>\n      <th>2</th>\n      <td>Harry</td>\n      <td>19</td>\n      <td>A</td>\n      <td>A</td>\n      <td>91.54</td>\n    </tr>\n  </tbody>\n</table>\n</div>"
     },
     "metadata": {},
     "execution_count": 29
    }
   ],
   "source": [
    "student_df.rename(columns={'Marks' : 'Percentage'})"
   ]
  },
  {
   "source": [
    "DataFrame Join"
   ],
   "cell_type": "markdown",
   "metadata": {}
  },
  {
   "cell_type": "code",
   "execution_count": 30,
   "metadata": {},
   "outputs": [
    {
     "output_type": "execute_result",
     "data": {
      "text/plain": [
       "  Name  Age\n",
       "0  Joe   20\n",
       "1  Nat   21"
      ],
      "text/html": "<div>\n<style scoped>\n    .dataframe tbody tr th:only-of-type {\n        vertical-align: middle;\n    }\n\n    .dataframe tbody tr th {\n        vertical-align: top;\n    }\n\n    .dataframe thead th {\n        text-align: right;\n    }\n</style>\n<table border=\"1\" class=\"dataframe\">\n  <thead>\n    <tr style=\"text-align: right;\">\n      <th></th>\n      <th>Name</th>\n      <th>Age</th>\n    </tr>\n  </thead>\n  <tbody>\n    <tr>\n      <th>0</th>\n      <td>Joe</td>\n      <td>20</td>\n    </tr>\n    <tr>\n      <th>1</th>\n      <td>Nat</td>\n      <td>21</td>\n    </tr>\n  </tbody>\n</table>\n</div>"
     },
     "metadata": {},
     "execution_count": 30
    }
   ],
   "source": [
    "student_dict = {'Name' : ['Joe', 'Nat'], 'Age' : [20, 21]}\n",
    "student_df = pd.DataFrame(student_dict)\n",
    "student_df"
   ]
  },
  {
   "cell_type": "code",
   "execution_count": 32,
   "metadata": {},
   "outputs": [
    {
     "output_type": "execute_result",
     "data": {
      "text/plain": [
       "   Marks\n",
       "0   85.1\n",
       "1   77.8"
      ],
      "text/html": "<div>\n<style scoped>\n    .dataframe tbody tr th:only-of-type {\n        vertical-align: middle;\n    }\n\n    .dataframe tbody tr th {\n        vertical-align: top;\n    }\n\n    .dataframe thead th {\n        text-align: right;\n    }\n</style>\n<table border=\"1\" class=\"dataframe\">\n  <thead>\n    <tr style=\"text-align: right;\">\n      <th></th>\n      <th>Marks</th>\n    </tr>\n  </thead>\n  <tbody>\n    <tr>\n      <th>0</th>\n      <td>85.1</td>\n    </tr>\n    <tr>\n      <th>1</th>\n      <td>77.8</td>\n    </tr>\n  </tbody>\n</table>\n</div>"
     },
     "metadata": {},
     "execution_count": 32
    }
   ],
   "source": [
    "marks_dict = {'Marks' : [85.10, 77.80]}\n",
    "marks_df = pd.DataFrame(marks_dict)\n",
    "marks_df"
   ]
  },
  {
   "cell_type": "code",
   "execution_count": 33,
   "metadata": {},
   "outputs": [
    {
     "output_type": "execute_result",
     "data": {
      "text/plain": [
       "  Name  Age  Marks\n",
       "0  Joe   20   85.1\n",
       "1  Nat   21   77.8"
      ],
      "text/html": "<div>\n<style scoped>\n    .dataframe tbody tr th:only-of-type {\n        vertical-align: middle;\n    }\n\n    .dataframe tbody tr th {\n        vertical-align: top;\n    }\n\n    .dataframe thead th {\n        text-align: right;\n    }\n</style>\n<table border=\"1\" class=\"dataframe\">\n  <thead>\n    <tr style=\"text-align: right;\">\n      <th></th>\n      <th>Name</th>\n      <th>Age</th>\n      <th>Marks</th>\n    </tr>\n  </thead>\n  <tbody>\n    <tr>\n      <th>0</th>\n      <td>Joe</td>\n      <td>20</td>\n      <td>85.1</td>\n    </tr>\n    <tr>\n      <th>1</th>\n      <td>Nat</td>\n      <td>21</td>\n      <td>77.8</td>\n    </tr>\n  </tbody>\n</table>\n</div>"
     },
     "metadata": {},
     "execution_count": 33
    }
   ],
   "source": [
    "student_df.join(marks_df)"
   ]
  },
  {
   "source": [
    "DataFrame GroupBy"
   ],
   "cell_type": "markdown",
   "metadata": {}
  },
  {
   "cell_type": "code",
   "execution_count": 34,
   "metadata": {},
   "outputs": [
    {
     "output_type": "execute_result",
     "data": {
      "text/plain": [
       "    Name Class  Marks\n",
       "0    Joe     A  85.10\n",
       "1    Nat     B  77.80\n",
       "2  Harry     A  91.54"
      ],
      "text/html": "<div>\n<style scoped>\n    .dataframe tbody tr th:only-of-type {\n        vertical-align: middle;\n    }\n\n    .dataframe tbody tr th {\n        vertical-align: top;\n    }\n\n    .dataframe thead th {\n        text-align: right;\n    }\n</style>\n<table border=\"1\" class=\"dataframe\">\n  <thead>\n    <tr style=\"text-align: right;\">\n      <th></th>\n      <th>Name</th>\n      <th>Class</th>\n      <th>Marks</th>\n    </tr>\n  </thead>\n  <tbody>\n    <tr>\n      <th>0</th>\n      <td>Joe</td>\n      <td>A</td>\n      <td>85.10</td>\n    </tr>\n    <tr>\n      <th>1</th>\n      <td>Nat</td>\n      <td>B</td>\n      <td>77.80</td>\n    </tr>\n    <tr>\n      <th>2</th>\n      <td>Harry</td>\n      <td>A</td>\n      <td>91.54</td>\n    </tr>\n  </tbody>\n</table>\n</div>"
     },
     "metadata": {},
     "execution_count": 34
    }
   ],
   "source": [
    "student_dict = {'Name': ['Joe', 'Nat', 'Harry'], 'Class': ['A', 'B', 'A'], 'Marks': [85.10, 77.80, 91.54]}\n",
    "student_df = pd.DataFrame(student_dict)\n",
    "student_df"
   ]
  },
  {
   "cell_type": "code",
   "execution_count": 35,
   "metadata": {},
   "outputs": [
    {
     "output_type": "execute_result",
     "data": {
      "text/plain": [
       "       Marks\n",
       "Class       \n",
       "A      88.32\n",
       "B      77.80"
      ],
      "text/html": "<div>\n<style scoped>\n    .dataframe tbody tr th:only-of-type {\n        vertical-align: middle;\n    }\n\n    .dataframe tbody tr th {\n        vertical-align: top;\n    }\n\n    .dataframe thead th {\n        text-align: right;\n    }\n</style>\n<table border=\"1\" class=\"dataframe\">\n  <thead>\n    <tr style=\"text-align: right;\">\n      <th></th>\n      <th>Marks</th>\n    </tr>\n    <tr>\n      <th>Class</th>\n      <th></th>\n    </tr>\n  </thead>\n  <tbody>\n    <tr>\n      <th>A</th>\n      <td>88.32</td>\n    </tr>\n    <tr>\n      <th>B</th>\n      <td>77.80</td>\n    </tr>\n  </tbody>\n</table>\n</div>"
     },
     "metadata": {},
     "execution_count": 35
    }
   ],
   "source": [
    "student_df.groupby('Class').mean()"
   ]
  },
  {
   "source": [
    "DataFrame Iteration\n",
    "\n",
    "\n",
    "DataFrame.iterrows() can loop a DataFrame row-wise. It returns the index and row of the DataFrame in each iteration of the for a loop."
   ],
   "cell_type": "markdown",
   "metadata": {}
  },
  {
   "cell_type": "code",
   "execution_count": 41,
   "metadata": {},
   "outputs": [
    {
     "output_type": "stream",
     "name": "stdout",
     "text": [
      "0 Name      Joe\nClass       A\nMarks    85.1\nName: 0, dtype: object\n1 Name      Nat\nClass       B\nMarks    77.8\nName: 1, dtype: object\n2 Name     Harry\nClass        A\nMarks    91.54\nName: 2, dtype: object\n"
     ]
    }
   ],
   "source": [
    "for index, row in student_df.iterrows():\n",
    "    print (index, row)"
   ]
  },
  {
   "source": [
    "DataFrame Conversion"
   ],
   "cell_type": "markdown",
   "metadata": {}
  },
  {
   "cell_type": "code",
   "execution_count": 42,
   "metadata": {},
   "outputs": [
    {
     "output_type": "execute_result",
     "data": {
      "text/plain": [
       "{'Name': {0: 'Joe', 1: 'Nat', 2: 'Harry'},\n",
       " 'Class': {0: 'A', 1: 'B', 2: 'A'},\n",
       " 'Marks': {0: 85.1, 1: 77.8, 2: 91.54}}"
      ]
     },
     "metadata": {},
     "execution_count": 42
    }
   ],
   "source": [
    "student_df.to_dict()"
   ]
  },
  {
   "source": [
    "https://pynative.com/python-pandas-exercise/"
   ],
   "cell_type": "markdown",
   "metadata": {}
  },
  {
   "source": [
    "Exercise 2: Clean the dataset and update the CSV file\n",
    "\n",
    "Replace all column values which contain ?, n.a, or NaN."
   ],
   "cell_type": "markdown",
   "metadata": {}
  },
  {
   "cell_type": "code",
   "execution_count": 56,
   "metadata": {},
   "outputs": [
    {
     "output_type": "execute_result",
     "data": {
      "text/plain": [
       "   index      company   body-style  wheel-base  length engine-type  \\\n",
       "0      0  alfa-romero  convertible        88.6   168.8        dohc   \n",
       "1      1  alfa-romero  convertible        88.6   168.8        dohc   \n",
       "2      2  alfa-romero    hatchback        94.5   171.2        ohcv   \n",
       "3      3         audi        sedan        99.8   176.6         ohc   \n",
       "4      4         audi        sedan        99.4   176.6         ohc   \n",
       "\n",
       "  num-of-cylinders  horsepower  average-mileage    price  \n",
       "0             four         111               21  13495.0  \n",
       "1             four         111               21  16500.0  \n",
       "2              six         154               19  16500.0  \n",
       "3             four         102               24  13950.0  \n",
       "4             five         115               18  17450.0  "
      ],
      "text/html": "<div>\n<style scoped>\n    .dataframe tbody tr th:only-of-type {\n        vertical-align: middle;\n    }\n\n    .dataframe tbody tr th {\n        vertical-align: top;\n    }\n\n    .dataframe thead th {\n        text-align: right;\n    }\n</style>\n<table border=\"1\" class=\"dataframe\">\n  <thead>\n    <tr style=\"text-align: right;\">\n      <th></th>\n      <th>index</th>\n      <th>company</th>\n      <th>body-style</th>\n      <th>wheel-base</th>\n      <th>length</th>\n      <th>engine-type</th>\n      <th>num-of-cylinders</th>\n      <th>horsepower</th>\n      <th>average-mileage</th>\n      <th>price</th>\n    </tr>\n  </thead>\n  <tbody>\n    <tr>\n      <th>0</th>\n      <td>0</td>\n      <td>alfa-romero</td>\n      <td>convertible</td>\n      <td>88.6</td>\n      <td>168.8</td>\n      <td>dohc</td>\n      <td>four</td>\n      <td>111</td>\n      <td>21</td>\n      <td>13495.0</td>\n    </tr>\n    <tr>\n      <th>1</th>\n      <td>1</td>\n      <td>alfa-romero</td>\n      <td>convertible</td>\n      <td>88.6</td>\n      <td>168.8</td>\n      <td>dohc</td>\n      <td>four</td>\n      <td>111</td>\n      <td>21</td>\n      <td>16500.0</td>\n    </tr>\n    <tr>\n      <th>2</th>\n      <td>2</td>\n      <td>alfa-romero</td>\n      <td>hatchback</td>\n      <td>94.5</td>\n      <td>171.2</td>\n      <td>ohcv</td>\n      <td>six</td>\n      <td>154</td>\n      <td>19</td>\n      <td>16500.0</td>\n    </tr>\n    <tr>\n      <th>3</th>\n      <td>3</td>\n      <td>audi</td>\n      <td>sedan</td>\n      <td>99.8</td>\n      <td>176.6</td>\n      <td>ohc</td>\n      <td>four</td>\n      <td>102</td>\n      <td>24</td>\n      <td>13950.0</td>\n    </tr>\n    <tr>\n      <th>4</th>\n      <td>4</td>\n      <td>audi</td>\n      <td>sedan</td>\n      <td>99.4</td>\n      <td>176.6</td>\n      <td>ohc</td>\n      <td>five</td>\n      <td>115</td>\n      <td>18</td>\n      <td>17450.0</td>\n    </tr>\n  </tbody>\n</table>\n</div>"
     },
     "metadata": {},
     "execution_count": 56
    }
   ],
   "source": [
    "oo = pd.read_csv('C:\\\\Users\\\\jenny\\\\venvs\\\\py39\\\\PYnative\\\\Automobile_data.csv')\n",
    "oo.head() "
   ]
  },
  {
   "cell_type": "code",
   "execution_count": 57,
   "metadata": {},
   "outputs": [
    {
     "output_type": "execute_result",
     "data": {
      "text/plain": [
       "    index      company   body-style  wheel-base  length engine-type  \\\n",
       "0       0  alfa-romero  convertible        88.6   168.8        dohc   \n",
       "1       1  alfa-romero  convertible        88.6   168.8        dohc   \n",
       "2       2  alfa-romero    hatchback        94.5   171.2        ohcv   \n",
       "3       3         audi        sedan        99.8   176.6         ohc   \n",
       "4       4         audi        sedan        99.4   176.6         ohc   \n",
       "..    ...          ...          ...         ...     ...         ...   \n",
       "56     81   volkswagen        sedan        97.3   171.7         ohc   \n",
       "57     82   volkswagen        sedan        97.3   171.7         ohc   \n",
       "58     86   volkswagen        sedan        97.3   171.7         ohc   \n",
       "59     87        volvo        sedan       104.3   188.8         ohc   \n",
       "60     88        volvo        wagon       104.3   188.8         ohc   \n",
       "\n",
       "   num-of-cylinders  horsepower  average-mileage    price  \n",
       "0              four         111               21  13495.0  \n",
       "1              four         111               21  16500.0  \n",
       "2               six         154               19  16500.0  \n",
       "3              four         102               24  13950.0  \n",
       "4              five         115               18  17450.0  \n",
       "..              ...         ...              ...      ...  \n",
       "56             four          85               27   7975.0  \n",
       "57             four          52               37   7995.0  \n",
       "58             four         100               26   9995.0  \n",
       "59             four         114               23  12940.0  \n",
       "60             four         114               23  13415.0  \n",
       "\n",
       "[61 rows x 10 columns]"
      ],
      "text/html": "<div>\n<style scoped>\n    .dataframe tbody tr th:only-of-type {\n        vertical-align: middle;\n    }\n\n    .dataframe tbody tr th {\n        vertical-align: top;\n    }\n\n    .dataframe thead th {\n        text-align: right;\n    }\n</style>\n<table border=\"1\" class=\"dataframe\">\n  <thead>\n    <tr style=\"text-align: right;\">\n      <th></th>\n      <th>index</th>\n      <th>company</th>\n      <th>body-style</th>\n      <th>wheel-base</th>\n      <th>length</th>\n      <th>engine-type</th>\n      <th>num-of-cylinders</th>\n      <th>horsepower</th>\n      <th>average-mileage</th>\n      <th>price</th>\n    </tr>\n  </thead>\n  <tbody>\n    <tr>\n      <th>0</th>\n      <td>0</td>\n      <td>alfa-romero</td>\n      <td>convertible</td>\n      <td>88.6</td>\n      <td>168.8</td>\n      <td>dohc</td>\n      <td>four</td>\n      <td>111</td>\n      <td>21</td>\n      <td>13495.0</td>\n    </tr>\n    <tr>\n      <th>1</th>\n      <td>1</td>\n      <td>alfa-romero</td>\n      <td>convertible</td>\n      <td>88.6</td>\n      <td>168.8</td>\n      <td>dohc</td>\n      <td>four</td>\n      <td>111</td>\n      <td>21</td>\n      <td>16500.0</td>\n    </tr>\n    <tr>\n      <th>2</th>\n      <td>2</td>\n      <td>alfa-romero</td>\n      <td>hatchback</td>\n      <td>94.5</td>\n      <td>171.2</td>\n      <td>ohcv</td>\n      <td>six</td>\n      <td>154</td>\n      <td>19</td>\n      <td>16500.0</td>\n    </tr>\n    <tr>\n      <th>3</th>\n      <td>3</td>\n      <td>audi</td>\n      <td>sedan</td>\n      <td>99.8</td>\n      <td>176.6</td>\n      <td>ohc</td>\n      <td>four</td>\n      <td>102</td>\n      <td>24</td>\n      <td>13950.0</td>\n    </tr>\n    <tr>\n      <th>4</th>\n      <td>4</td>\n      <td>audi</td>\n      <td>sedan</td>\n      <td>99.4</td>\n      <td>176.6</td>\n      <td>ohc</td>\n      <td>five</td>\n      <td>115</td>\n      <td>18</td>\n      <td>17450.0</td>\n    </tr>\n    <tr>\n      <th>...</th>\n      <td>...</td>\n      <td>...</td>\n      <td>...</td>\n      <td>...</td>\n      <td>...</td>\n      <td>...</td>\n      <td>...</td>\n      <td>...</td>\n      <td>...</td>\n      <td>...</td>\n    </tr>\n    <tr>\n      <th>56</th>\n      <td>81</td>\n      <td>volkswagen</td>\n      <td>sedan</td>\n      <td>97.3</td>\n      <td>171.7</td>\n      <td>ohc</td>\n      <td>four</td>\n      <td>85</td>\n      <td>27</td>\n      <td>7975.0</td>\n    </tr>\n    <tr>\n      <th>57</th>\n      <td>82</td>\n      <td>volkswagen</td>\n      <td>sedan</td>\n      <td>97.3</td>\n      <td>171.7</td>\n      <td>ohc</td>\n      <td>four</td>\n      <td>52</td>\n      <td>37</td>\n      <td>7995.0</td>\n    </tr>\n    <tr>\n      <th>58</th>\n      <td>86</td>\n      <td>volkswagen</td>\n      <td>sedan</td>\n      <td>97.3</td>\n      <td>171.7</td>\n      <td>ohc</td>\n      <td>four</td>\n      <td>100</td>\n      <td>26</td>\n      <td>9995.0</td>\n    </tr>\n    <tr>\n      <th>59</th>\n      <td>87</td>\n      <td>volvo</td>\n      <td>sedan</td>\n      <td>104.3</td>\n      <td>188.8</td>\n      <td>ohc</td>\n      <td>four</td>\n      <td>114</td>\n      <td>23</td>\n      <td>12940.0</td>\n    </tr>\n    <tr>\n      <th>60</th>\n      <td>88</td>\n      <td>volvo</td>\n      <td>wagon</td>\n      <td>104.3</td>\n      <td>188.8</td>\n      <td>ohc</td>\n      <td>four</td>\n      <td>114</td>\n      <td>23</td>\n      <td>13415.0</td>\n    </tr>\n  </tbody>\n</table>\n<p>61 rows × 10 columns</p>\n</div>"
     },
     "metadata": {},
     "execution_count": 57
    }
   ],
   "source": [
    "oo = pd.read_csv('C:\\\\Users\\\\jenny\\\\venvs\\\\py39\\\\PYnative\\\\Automobile_data.csv', na_values={'price':[\"?\",\"n.a\"], 'wheel-base':[\"?\",\"n.a\"], 'horsepower':[\"?\",\"n.a\"], 'length':[\"?\",\"n.a\"], 'average-mileage':[\"?\",\"n.a\"]})\n",
    "oo"
   ]
  },
  {
   "source": [
    "Exercise 3: Find the most expensive car company name"
   ],
   "cell_type": "markdown",
   "metadata": {}
  },
  {
   "cell_type": "code",
   "execution_count": 72,
   "metadata": {},
   "outputs": [
    {
     "output_type": "execute_result",
     "data": {
      "text/plain": [
       "   index      company   body-style  wheel-base  length engine-type  \\\n",
       "0      0  alfa-romero  convertible        88.6   168.8        dohc   \n",
       "1      1  alfa-romero  convertible        88.6   168.8        dohc   \n",
       "2      2  alfa-romero    hatchback        94.5   171.2        ohcv   \n",
       "3      3         audi        sedan        99.8   176.6         ohc   \n",
       "4      4         audi        sedan        99.4   176.6         ohc   \n",
       "\n",
       "  num-of-cylinders  horsepower  average-mileage    price  \n",
       "0             four         111               21  13495.0  \n",
       "1             four         111               21  16500.0  \n",
       "2              six         154               19  16500.0  \n",
       "3             four         102               24  13950.0  \n",
       "4             five         115               18  17450.0  "
      ],
      "text/html": "<div>\n<style scoped>\n    .dataframe tbody tr th:only-of-type {\n        vertical-align: middle;\n    }\n\n    .dataframe tbody tr th {\n        vertical-align: top;\n    }\n\n    .dataframe thead th {\n        text-align: right;\n    }\n</style>\n<table border=\"1\" class=\"dataframe\">\n  <thead>\n    <tr style=\"text-align: right;\">\n      <th></th>\n      <th>index</th>\n      <th>company</th>\n      <th>body-style</th>\n      <th>wheel-base</th>\n      <th>length</th>\n      <th>engine-type</th>\n      <th>num-of-cylinders</th>\n      <th>horsepower</th>\n      <th>average-mileage</th>\n      <th>price</th>\n    </tr>\n  </thead>\n  <tbody>\n    <tr>\n      <th>0</th>\n      <td>0</td>\n      <td>alfa-romero</td>\n      <td>convertible</td>\n      <td>88.6</td>\n      <td>168.8</td>\n      <td>dohc</td>\n      <td>four</td>\n      <td>111</td>\n      <td>21</td>\n      <td>13495.0</td>\n    </tr>\n    <tr>\n      <th>1</th>\n      <td>1</td>\n      <td>alfa-romero</td>\n      <td>convertible</td>\n      <td>88.6</td>\n      <td>168.8</td>\n      <td>dohc</td>\n      <td>four</td>\n      <td>111</td>\n      <td>21</td>\n      <td>16500.0</td>\n    </tr>\n    <tr>\n      <th>2</th>\n      <td>2</td>\n      <td>alfa-romero</td>\n      <td>hatchback</td>\n      <td>94.5</td>\n      <td>171.2</td>\n      <td>ohcv</td>\n      <td>six</td>\n      <td>154</td>\n      <td>19</td>\n      <td>16500.0</td>\n    </tr>\n    <tr>\n      <th>3</th>\n      <td>3</td>\n      <td>audi</td>\n      <td>sedan</td>\n      <td>99.8</td>\n      <td>176.6</td>\n      <td>ohc</td>\n      <td>four</td>\n      <td>102</td>\n      <td>24</td>\n      <td>13950.0</td>\n    </tr>\n    <tr>\n      <th>4</th>\n      <td>4</td>\n      <td>audi</td>\n      <td>sedan</td>\n      <td>99.4</td>\n      <td>176.6</td>\n      <td>ohc</td>\n      <td>five</td>\n      <td>115</td>\n      <td>18</td>\n      <td>17450.0</td>\n    </tr>\n  </tbody>\n</table>\n</div>"
     },
     "metadata": {},
     "execution_count": 72
    }
   ],
   "source": [
    "oo = pd.read_csv('C:\\\\Users\\\\jenny\\\\venvs\\\\py39\\\\PYnative\\\\Automobile_data.csv')\n",
    "oo.head() "
   ]
  },
  {
   "cell_type": "code",
   "execution_count": 73,
   "metadata": {},
   "outputs": [
    {
     "output_type": "execute_result",
     "data": {
      "text/plain": [
       "    index        company   body-style  wheel-base  length engine-type  \\\n",
       "35     47  mercedes-benz      hardtop       112.0   199.2        ohcv   \n",
       "11     14            bmw        sedan       103.5   193.8         ohc   \n",
       "34     46  mercedes-benz        sedan       120.9   208.1        ohcv   \n",
       "46     62        porsche  convertible        89.5   168.9        ohcf   \n",
       "12     15            bmw        sedan       110.0   197.0         ohc   \n",
       "..    ...            ...          ...         ...     ...         ...   \n",
       "27     36          mazda    hatchback        93.1   159.1         ohc   \n",
       "13     16      chevrolet    hatchback        88.4   141.1           l   \n",
       "22     31          isuzu        sedan        94.5   155.9         ohc   \n",
       "23     32          isuzu        sedan        94.5   155.9         ohc   \n",
       "47     63        porsche    hatchback        98.4   175.7       dohcv   \n",
       "\n",
       "   num-of-cylinders  horsepower  average-mileage    price  \n",
       "35            eight         184               14  45400.0  \n",
       "11              six         182               16  41315.0  \n",
       "34            eight         184               14  40960.0  \n",
       "46              six         207               17  37028.0  \n",
       "12              six         182               15  36880.0  \n",
       "..              ...         ...              ...      ...  \n",
       "27             four          68               30   5195.0  \n",
       "13            three          48               47   5151.0  \n",
       "22             four          70               38      NaN  \n",
       "23             four          70               38      NaN  \n",
       "47            eight         288               17      NaN  \n",
       "\n",
       "[61 rows x 10 columns]"
      ],
      "text/html": "<div>\n<style scoped>\n    .dataframe tbody tr th:only-of-type {\n        vertical-align: middle;\n    }\n\n    .dataframe tbody tr th {\n        vertical-align: top;\n    }\n\n    .dataframe thead th {\n        text-align: right;\n    }\n</style>\n<table border=\"1\" class=\"dataframe\">\n  <thead>\n    <tr style=\"text-align: right;\">\n      <th></th>\n      <th>index</th>\n      <th>company</th>\n      <th>body-style</th>\n      <th>wheel-base</th>\n      <th>length</th>\n      <th>engine-type</th>\n      <th>num-of-cylinders</th>\n      <th>horsepower</th>\n      <th>average-mileage</th>\n      <th>price</th>\n    </tr>\n  </thead>\n  <tbody>\n    <tr>\n      <th>35</th>\n      <td>47</td>\n      <td>mercedes-benz</td>\n      <td>hardtop</td>\n      <td>112.0</td>\n      <td>199.2</td>\n      <td>ohcv</td>\n      <td>eight</td>\n      <td>184</td>\n      <td>14</td>\n      <td>45400.0</td>\n    </tr>\n    <tr>\n      <th>11</th>\n      <td>14</td>\n      <td>bmw</td>\n      <td>sedan</td>\n      <td>103.5</td>\n      <td>193.8</td>\n      <td>ohc</td>\n      <td>six</td>\n      <td>182</td>\n      <td>16</td>\n      <td>41315.0</td>\n    </tr>\n    <tr>\n      <th>34</th>\n      <td>46</td>\n      <td>mercedes-benz</td>\n      <td>sedan</td>\n      <td>120.9</td>\n      <td>208.1</td>\n      <td>ohcv</td>\n      <td>eight</td>\n      <td>184</td>\n      <td>14</td>\n      <td>40960.0</td>\n    </tr>\n    <tr>\n      <th>46</th>\n      <td>62</td>\n      <td>porsche</td>\n      <td>convertible</td>\n      <td>89.5</td>\n      <td>168.9</td>\n      <td>ohcf</td>\n      <td>six</td>\n      <td>207</td>\n      <td>17</td>\n      <td>37028.0</td>\n    </tr>\n    <tr>\n      <th>12</th>\n      <td>15</td>\n      <td>bmw</td>\n      <td>sedan</td>\n      <td>110.0</td>\n      <td>197.0</td>\n      <td>ohc</td>\n      <td>six</td>\n      <td>182</td>\n      <td>15</td>\n      <td>36880.0</td>\n    </tr>\n    <tr>\n      <th>...</th>\n      <td>...</td>\n      <td>...</td>\n      <td>...</td>\n      <td>...</td>\n      <td>...</td>\n      <td>...</td>\n      <td>...</td>\n      <td>...</td>\n      <td>...</td>\n      <td>...</td>\n    </tr>\n    <tr>\n      <th>27</th>\n      <td>36</td>\n      <td>mazda</td>\n      <td>hatchback</td>\n      <td>93.1</td>\n      <td>159.1</td>\n      <td>ohc</td>\n      <td>four</td>\n      <td>68</td>\n      <td>30</td>\n      <td>5195.0</td>\n    </tr>\n    <tr>\n      <th>13</th>\n      <td>16</td>\n      <td>chevrolet</td>\n      <td>hatchback</td>\n      <td>88.4</td>\n      <td>141.1</td>\n      <td>l</td>\n      <td>three</td>\n      <td>48</td>\n      <td>47</td>\n      <td>5151.0</td>\n    </tr>\n    <tr>\n      <th>22</th>\n      <td>31</td>\n      <td>isuzu</td>\n      <td>sedan</td>\n      <td>94.5</td>\n      <td>155.9</td>\n      <td>ohc</td>\n      <td>four</td>\n      <td>70</td>\n      <td>38</td>\n      <td>NaN</td>\n    </tr>\n    <tr>\n      <th>23</th>\n      <td>32</td>\n      <td>isuzu</td>\n      <td>sedan</td>\n      <td>94.5</td>\n      <td>155.9</td>\n      <td>ohc</td>\n      <td>four</td>\n      <td>70</td>\n      <td>38</td>\n      <td>NaN</td>\n    </tr>\n    <tr>\n      <th>47</th>\n      <td>63</td>\n      <td>porsche</td>\n      <td>hatchback</td>\n      <td>98.4</td>\n      <td>175.7</td>\n      <td>dohcv</td>\n      <td>eight</td>\n      <td>288</td>\n      <td>17</td>\n      <td>NaN</td>\n    </tr>\n  </tbody>\n</table>\n<p>61 rows × 10 columns</p>\n</div>"
     },
     "metadata": {},
     "execution_count": 73
    }
   ],
   "source": [
    "oo.sort_values(by='price', ascending=False)"
   ]
  },
  {
   "source": [
    "Alternative Solution"
   ],
   "cell_type": "markdown",
   "metadata": {}
  },
  {
   "cell_type": "code",
   "execution_count": 74,
   "metadata": {},
   "outputs": [
    {
     "output_type": "execute_result",
     "data": {
      "text/plain": [
       "          company    price\n",
       "35  mercedes-benz  45400.0"
      ],
      "text/html": "<div>\n<style scoped>\n    .dataframe tbody tr th:only-of-type {\n        vertical-align: middle;\n    }\n\n    .dataframe tbody tr th {\n        vertical-align: top;\n    }\n\n    .dataframe thead th {\n        text-align: right;\n    }\n</style>\n<table border=\"1\" class=\"dataframe\">\n  <thead>\n    <tr style=\"text-align: right;\">\n      <th></th>\n      <th>company</th>\n      <th>price</th>\n    </tr>\n  </thead>\n  <tbody>\n    <tr>\n      <th>35</th>\n      <td>mercedes-benz</td>\n      <td>45400.0</td>\n    </tr>\n  </tbody>\n</table>\n</div>"
     },
     "metadata": {},
     "execution_count": 74
    }
   ],
   "source": [
    "oo[['company', 'price']][oo.price == oo['price'].max()]"
   ]
  },
  {
   "source": [
    "Exercise 4: Print All Toyota Cars details"
   ],
   "cell_type": "markdown",
   "metadata": {}
  },
  {
   "cell_type": "code",
   "execution_count": 75,
   "metadata": {},
   "outputs": [
    {
     "output_type": "execute_result",
     "data": {
      "text/plain": [
       "    index company body-style  wheel-base  length engine-type num-of-cylinders  \\\n",
       "48     66  toyota  hatchback        95.7   158.7         ohc             four   \n",
       "49     67  toyota  hatchback        95.7   158.7         ohc             four   \n",
       "50     68  toyota  hatchback        95.7   158.7         ohc             four   \n",
       "51     69  toyota      wagon        95.7   169.7         ohc             four   \n",
       "52     70  toyota      wagon        95.7   169.7         ohc             four   \n",
       "53     71  toyota      wagon        95.7   169.7         ohc             four   \n",
       "54     79  toyota      wagon       104.5   187.8        dohc              six   \n",
       "\n",
       "    horsepower  average-mileage    price  \n",
       "48          62               35   5348.0  \n",
       "49          62               31   6338.0  \n",
       "50          62               31   6488.0  \n",
       "51          62               31   6918.0  \n",
       "52          62               27   7898.0  \n",
       "53          62               27   8778.0  \n",
       "54         156               19  15750.0  "
      ],
      "text/html": "<div>\n<style scoped>\n    .dataframe tbody tr th:only-of-type {\n        vertical-align: middle;\n    }\n\n    .dataframe tbody tr th {\n        vertical-align: top;\n    }\n\n    .dataframe thead th {\n        text-align: right;\n    }\n</style>\n<table border=\"1\" class=\"dataframe\">\n  <thead>\n    <tr style=\"text-align: right;\">\n      <th></th>\n      <th>index</th>\n      <th>company</th>\n      <th>body-style</th>\n      <th>wheel-base</th>\n      <th>length</th>\n      <th>engine-type</th>\n      <th>num-of-cylinders</th>\n      <th>horsepower</th>\n      <th>average-mileage</th>\n      <th>price</th>\n    </tr>\n  </thead>\n  <tbody>\n    <tr>\n      <th>48</th>\n      <td>66</td>\n      <td>toyota</td>\n      <td>hatchback</td>\n      <td>95.7</td>\n      <td>158.7</td>\n      <td>ohc</td>\n      <td>four</td>\n      <td>62</td>\n      <td>35</td>\n      <td>5348.0</td>\n    </tr>\n    <tr>\n      <th>49</th>\n      <td>67</td>\n      <td>toyota</td>\n      <td>hatchback</td>\n      <td>95.7</td>\n      <td>158.7</td>\n      <td>ohc</td>\n      <td>four</td>\n      <td>62</td>\n      <td>31</td>\n      <td>6338.0</td>\n    </tr>\n    <tr>\n      <th>50</th>\n      <td>68</td>\n      <td>toyota</td>\n      <td>hatchback</td>\n      <td>95.7</td>\n      <td>158.7</td>\n      <td>ohc</td>\n      <td>four</td>\n      <td>62</td>\n      <td>31</td>\n      <td>6488.0</td>\n    </tr>\n    <tr>\n      <th>51</th>\n      <td>69</td>\n      <td>toyota</td>\n      <td>wagon</td>\n      <td>95.7</td>\n      <td>169.7</td>\n      <td>ohc</td>\n      <td>four</td>\n      <td>62</td>\n      <td>31</td>\n      <td>6918.0</td>\n    </tr>\n    <tr>\n      <th>52</th>\n      <td>70</td>\n      <td>toyota</td>\n      <td>wagon</td>\n      <td>95.7</td>\n      <td>169.7</td>\n      <td>ohc</td>\n      <td>four</td>\n      <td>62</td>\n      <td>27</td>\n      <td>7898.0</td>\n    </tr>\n    <tr>\n      <th>53</th>\n      <td>71</td>\n      <td>toyota</td>\n      <td>wagon</td>\n      <td>95.7</td>\n      <td>169.7</td>\n      <td>ohc</td>\n      <td>four</td>\n      <td>62</td>\n      <td>27</td>\n      <td>8778.0</td>\n    </tr>\n    <tr>\n      <th>54</th>\n      <td>79</td>\n      <td>toyota</td>\n      <td>wagon</td>\n      <td>104.5</td>\n      <td>187.8</td>\n      <td>dohc</td>\n      <td>six</td>\n      <td>156</td>\n      <td>19</td>\n      <td>15750.0</td>\n    </tr>\n  </tbody>\n</table>\n</div>"
     },
     "metadata": {},
     "execution_count": 75
    }
   ],
   "source": [
    "oo[oo.company == 'toyota']"
   ]
  },
  {
   "source": [
    "alternative solution"
   ],
   "cell_type": "markdown",
   "metadata": {}
  },
  {
   "cell_type": "code",
   "execution_count": 76,
   "metadata": {},
   "outputs": [
    {
     "output_type": "execute_result",
     "data": {
      "text/plain": [
       "    index company body-style  wheel-base  length engine-type num-of-cylinders  \\\n",
       "48     66  toyota  hatchback        95.7   158.7         ohc             four   \n",
       "49     67  toyota  hatchback        95.7   158.7         ohc             four   \n",
       "50     68  toyota  hatchback        95.7   158.7         ohc             four   \n",
       "51     69  toyota      wagon        95.7   169.7         ohc             four   \n",
       "52     70  toyota      wagon        95.7   169.7         ohc             four   \n",
       "53     71  toyota      wagon        95.7   169.7         ohc             four   \n",
       "54     79  toyota      wagon       104.5   187.8        dohc              six   \n",
       "\n",
       "    horsepower  average-mileage    price  \n",
       "48          62               35   5348.0  \n",
       "49          62               31   6338.0  \n",
       "50          62               31   6488.0  \n",
       "51          62               31   6918.0  \n",
       "52          62               27   7898.0  \n",
       "53          62               27   8778.0  \n",
       "54         156               19  15750.0  "
      ],
      "text/html": "<div>\n<style scoped>\n    .dataframe tbody tr th:only-of-type {\n        vertical-align: middle;\n    }\n\n    .dataframe tbody tr th {\n        vertical-align: top;\n    }\n\n    .dataframe thead th {\n        text-align: right;\n    }\n</style>\n<table border=\"1\" class=\"dataframe\">\n  <thead>\n    <tr style=\"text-align: right;\">\n      <th></th>\n      <th>index</th>\n      <th>company</th>\n      <th>body-style</th>\n      <th>wheel-base</th>\n      <th>length</th>\n      <th>engine-type</th>\n      <th>num-of-cylinders</th>\n      <th>horsepower</th>\n      <th>average-mileage</th>\n      <th>price</th>\n    </tr>\n  </thead>\n  <tbody>\n    <tr>\n      <th>48</th>\n      <td>66</td>\n      <td>toyota</td>\n      <td>hatchback</td>\n      <td>95.7</td>\n      <td>158.7</td>\n      <td>ohc</td>\n      <td>four</td>\n      <td>62</td>\n      <td>35</td>\n      <td>5348.0</td>\n    </tr>\n    <tr>\n      <th>49</th>\n      <td>67</td>\n      <td>toyota</td>\n      <td>hatchback</td>\n      <td>95.7</td>\n      <td>158.7</td>\n      <td>ohc</td>\n      <td>four</td>\n      <td>62</td>\n      <td>31</td>\n      <td>6338.0</td>\n    </tr>\n    <tr>\n      <th>50</th>\n      <td>68</td>\n      <td>toyota</td>\n      <td>hatchback</td>\n      <td>95.7</td>\n      <td>158.7</td>\n      <td>ohc</td>\n      <td>four</td>\n      <td>62</td>\n      <td>31</td>\n      <td>6488.0</td>\n    </tr>\n    <tr>\n      <th>51</th>\n      <td>69</td>\n      <td>toyota</td>\n      <td>wagon</td>\n      <td>95.7</td>\n      <td>169.7</td>\n      <td>ohc</td>\n      <td>four</td>\n      <td>62</td>\n      <td>31</td>\n      <td>6918.0</td>\n    </tr>\n    <tr>\n      <th>52</th>\n      <td>70</td>\n      <td>toyota</td>\n      <td>wagon</td>\n      <td>95.7</td>\n      <td>169.7</td>\n      <td>ohc</td>\n      <td>four</td>\n      <td>62</td>\n      <td>27</td>\n      <td>7898.0</td>\n    </tr>\n    <tr>\n      <th>53</th>\n      <td>71</td>\n      <td>toyota</td>\n      <td>wagon</td>\n      <td>95.7</td>\n      <td>169.7</td>\n      <td>ohc</td>\n      <td>four</td>\n      <td>62</td>\n      <td>27</td>\n      <td>8778.0</td>\n    </tr>\n    <tr>\n      <th>54</th>\n      <td>79</td>\n      <td>toyota</td>\n      <td>wagon</td>\n      <td>104.5</td>\n      <td>187.8</td>\n      <td>dohc</td>\n      <td>six</td>\n      <td>156</td>\n      <td>19</td>\n      <td>15750.0</td>\n    </tr>\n  </tbody>\n</table>\n</div>"
     },
     "metadata": {},
     "execution_count": 76
    }
   ],
   "source": [
    "oo.groupby('company').get_group('toyota')"
   ]
  },
  {
   "source": [
    "Exercise 5: Count total cars per company"
   ],
   "cell_type": "markdown",
   "metadata": {}
  },
  {
   "cell_type": "code",
   "execution_count": 4,
   "metadata": {},
   "outputs": [
    {
     "output_type": "execute_result",
     "data": {
      "text/plain": [
       "toyota           7\n",
       "bmw              6\n",
       "mazda            5\n",
       "nissan           5\n",
       "mercedes-benz    4\n",
       "mitsubishi       4\n",
       "audi             4\n",
       "volkswagen       4\n",
       "jaguar           3\n",
       "porsche          3\n",
       "alfa-romero      3\n",
       "chevrolet        3\n",
       "isuzu            3\n",
       "honda            3\n",
       "dodge            2\n",
       "volvo            2\n",
       "Name: company, dtype: int64"
      ]
     },
     "metadata": {},
     "execution_count": 4
    }
   ],
   "source": [
    "oo = pd.read_csv('C:\\\\Users\\\\jenny\\\\venvs\\\\py39\\\\PYnative\\\\Automobile_data.csv')\n",
    "oo.company.value_counts()"
   ]
  },
  {
   "source": [
    "Exercise 6: Find each company’s Higesht price car"
   ],
   "cell_type": "markdown",
   "metadata": {}
  },
  {
   "cell_type": "code",
   "execution_count": 11,
   "metadata": {},
   "outputs": [
    {
     "output_type": "execute_result",
     "data": {
      "text/plain": [
       "                 price\n",
       "company               \n",
       "alfa-romero    16500.0\n",
       "audi           18920.0\n",
       "bmw            41315.0\n",
       "chevrolet       6575.0\n",
       "dodge           6377.0\n",
       "honda          12945.0\n",
       "isuzu           6785.0\n",
       "jaguar         36000.0\n",
       "mazda          18344.0\n",
       "mercedes-benz  45400.0\n",
       "mitsubishi      8189.0\n",
       "nissan         13499.0\n",
       "porsche        37028.0\n",
       "toyota         15750.0\n",
       "volkswagen      9995.0\n",
       "volvo          13415.0"
      ],
      "text/html": "<div>\n<style scoped>\n    .dataframe tbody tr th:only-of-type {\n        vertical-align: middle;\n    }\n\n    .dataframe tbody tr th {\n        vertical-align: top;\n    }\n\n    .dataframe thead th {\n        text-align: right;\n    }\n</style>\n<table border=\"1\" class=\"dataframe\">\n  <thead>\n    <tr style=\"text-align: right;\">\n      <th></th>\n      <th>price</th>\n    </tr>\n    <tr>\n      <th>company</th>\n      <th></th>\n    </tr>\n  </thead>\n  <tbody>\n    <tr>\n      <th>alfa-romero</th>\n      <td>16500.0</td>\n    </tr>\n    <tr>\n      <th>audi</th>\n      <td>18920.0</td>\n    </tr>\n    <tr>\n      <th>bmw</th>\n      <td>41315.0</td>\n    </tr>\n    <tr>\n      <th>chevrolet</th>\n      <td>6575.0</td>\n    </tr>\n    <tr>\n      <th>dodge</th>\n      <td>6377.0</td>\n    </tr>\n    <tr>\n      <th>honda</th>\n      <td>12945.0</td>\n    </tr>\n    <tr>\n      <th>isuzu</th>\n      <td>6785.0</td>\n    </tr>\n    <tr>\n      <th>jaguar</th>\n      <td>36000.0</td>\n    </tr>\n    <tr>\n      <th>mazda</th>\n      <td>18344.0</td>\n    </tr>\n    <tr>\n      <th>mercedes-benz</th>\n      <td>45400.0</td>\n    </tr>\n    <tr>\n      <th>mitsubishi</th>\n      <td>8189.0</td>\n    </tr>\n    <tr>\n      <th>nissan</th>\n      <td>13499.0</td>\n    </tr>\n    <tr>\n      <th>porsche</th>\n      <td>37028.0</td>\n    </tr>\n    <tr>\n      <th>toyota</th>\n      <td>15750.0</td>\n    </tr>\n    <tr>\n      <th>volkswagen</th>\n      <td>9995.0</td>\n    </tr>\n    <tr>\n      <th>volvo</th>\n      <td>13415.0</td>\n    </tr>\n  </tbody>\n</table>\n</div>"
     },
     "metadata": {},
     "execution_count": 11
    }
   ],
   "source": [
    "cp = oo[['company', 'price']]\n",
    "cp.groupby('company'). max()"
   ]
  },
  {
   "source": [
    "Exercise 7: Find the average mileage of each car making company"
   ],
   "cell_type": "markdown",
   "metadata": {}
  },
  {
   "cell_type": "code",
   "execution_count": 8,
   "metadata": {},
   "outputs": [
    {
     "output_type": "execute_result",
     "data": {
      "text/plain": [
       "   index      company   body-style  wheel-base  length engine-type  \\\n",
       "0      0  alfa-romero  convertible        88.6   168.8        dohc   \n",
       "1      1  alfa-romero  convertible        88.6   168.8        dohc   \n",
       "2      2  alfa-romero    hatchback        94.5   171.2        ohcv   \n",
       "3      3         audi        sedan        99.8   176.6         ohc   \n",
       "4      4         audi        sedan        99.4   176.6         ohc   \n",
       "\n",
       "  num-of-cylinders  horsepower  average-mileage    price  \n",
       "0             four         111               21  13495.0  \n",
       "1             four         111               21  16500.0  \n",
       "2              six         154               19  16500.0  \n",
       "3             four         102               24  13950.0  \n",
       "4             five         115               18  17450.0  "
      ],
      "text/html": "<div>\n<style scoped>\n    .dataframe tbody tr th:only-of-type {\n        vertical-align: middle;\n    }\n\n    .dataframe tbody tr th {\n        vertical-align: top;\n    }\n\n    .dataframe thead th {\n        text-align: right;\n    }\n</style>\n<table border=\"1\" class=\"dataframe\">\n  <thead>\n    <tr style=\"text-align: right;\">\n      <th></th>\n      <th>index</th>\n      <th>company</th>\n      <th>body-style</th>\n      <th>wheel-base</th>\n      <th>length</th>\n      <th>engine-type</th>\n      <th>num-of-cylinders</th>\n      <th>horsepower</th>\n      <th>average-mileage</th>\n      <th>price</th>\n    </tr>\n  </thead>\n  <tbody>\n    <tr>\n      <th>0</th>\n      <td>0</td>\n      <td>alfa-romero</td>\n      <td>convertible</td>\n      <td>88.6</td>\n      <td>168.8</td>\n      <td>dohc</td>\n      <td>four</td>\n      <td>111</td>\n      <td>21</td>\n      <td>13495.0</td>\n    </tr>\n    <tr>\n      <th>1</th>\n      <td>1</td>\n      <td>alfa-romero</td>\n      <td>convertible</td>\n      <td>88.6</td>\n      <td>168.8</td>\n      <td>dohc</td>\n      <td>four</td>\n      <td>111</td>\n      <td>21</td>\n      <td>16500.0</td>\n    </tr>\n    <tr>\n      <th>2</th>\n      <td>2</td>\n      <td>alfa-romero</td>\n      <td>hatchback</td>\n      <td>94.5</td>\n      <td>171.2</td>\n      <td>ohcv</td>\n      <td>six</td>\n      <td>154</td>\n      <td>19</td>\n      <td>16500.0</td>\n    </tr>\n    <tr>\n      <th>3</th>\n      <td>3</td>\n      <td>audi</td>\n      <td>sedan</td>\n      <td>99.8</td>\n      <td>176.6</td>\n      <td>ohc</td>\n      <td>four</td>\n      <td>102</td>\n      <td>24</td>\n      <td>13950.0</td>\n    </tr>\n    <tr>\n      <th>4</th>\n      <td>4</td>\n      <td>audi</td>\n      <td>sedan</td>\n      <td>99.4</td>\n      <td>176.6</td>\n      <td>ohc</td>\n      <td>five</td>\n      <td>115</td>\n      <td>18</td>\n      <td>17450.0</td>\n    </tr>\n  </tbody>\n</table>\n</div>"
     },
     "metadata": {},
     "execution_count": 8
    }
   ],
   "source": [
    "oo = pd.read_csv('C:\\\\Users\\\\jenny\\\\venvs\\\\py39\\\\PYnative\\\\Automobile_data.csv')\n",
    "oo.head()"
   ]
  },
  {
   "cell_type": "code",
   "execution_count": 9,
   "metadata": {},
   "outputs": [
    {
     "output_type": "execute_result",
     "data": {
      "text/plain": [
       "        company  average-mileage\n",
       "0   alfa-romero               21\n",
       "1   alfa-romero               21\n",
       "2   alfa-romero               19\n",
       "3          audi               24\n",
       "4          audi               18\n",
       "..          ...              ...\n",
       "56   volkswagen               27\n",
       "57   volkswagen               37\n",
       "58   volkswagen               26\n",
       "59        volvo               23\n",
       "60        volvo               23\n",
       "\n",
       "[61 rows x 2 columns]"
      ],
      "text/html": "<div>\n<style scoped>\n    .dataframe tbody tr th:only-of-type {\n        vertical-align: middle;\n    }\n\n    .dataframe tbody tr th {\n        vertical-align: top;\n    }\n\n    .dataframe thead th {\n        text-align: right;\n    }\n</style>\n<table border=\"1\" class=\"dataframe\">\n  <thead>\n    <tr style=\"text-align: right;\">\n      <th></th>\n      <th>company</th>\n      <th>average-mileage</th>\n    </tr>\n  </thead>\n  <tbody>\n    <tr>\n      <th>0</th>\n      <td>alfa-romero</td>\n      <td>21</td>\n    </tr>\n    <tr>\n      <th>1</th>\n      <td>alfa-romero</td>\n      <td>21</td>\n    </tr>\n    <tr>\n      <th>2</th>\n      <td>alfa-romero</td>\n      <td>19</td>\n    </tr>\n    <tr>\n      <th>3</th>\n      <td>audi</td>\n      <td>24</td>\n    </tr>\n    <tr>\n      <th>4</th>\n      <td>audi</td>\n      <td>18</td>\n    </tr>\n    <tr>\n      <th>...</th>\n      <td>...</td>\n      <td>...</td>\n    </tr>\n    <tr>\n      <th>56</th>\n      <td>volkswagen</td>\n      <td>27</td>\n    </tr>\n    <tr>\n      <th>57</th>\n      <td>volkswagen</td>\n      <td>37</td>\n    </tr>\n    <tr>\n      <th>58</th>\n      <td>volkswagen</td>\n      <td>26</td>\n    </tr>\n    <tr>\n      <th>59</th>\n      <td>volvo</td>\n      <td>23</td>\n    </tr>\n    <tr>\n      <th>60</th>\n      <td>volvo</td>\n      <td>23</td>\n    </tr>\n  </tbody>\n</table>\n<p>61 rows × 2 columns</p>\n</div>"
     },
     "metadata": {},
     "execution_count": 9
    }
   ],
   "source": [
    "am = oo[['company', 'average-mileage']]\n",
    "am"
   ]
  },
  {
   "cell_type": "code",
   "execution_count": 10,
   "metadata": {},
   "outputs": [
    {
     "output_type": "execute_result",
     "data": {
      "text/plain": [
       "             average-mileage\n",
       "company                     \n",
       "alfa-romero               21\n",
       "alfa-romero               21\n",
       "alfa-romero               19\n",
       "audi                      24\n",
       "audi                      18\n",
       "...                      ...\n",
       "volkswagen                27\n",
       "volkswagen                37\n",
       "volkswagen                26\n",
       "volvo                     23\n",
       "volvo                     23\n",
       "\n",
       "[61 rows x 1 columns]"
      ],
      "text/html": "<div>\n<style scoped>\n    .dataframe tbody tr th:only-of-type {\n        vertical-align: middle;\n    }\n\n    .dataframe tbody tr th {\n        vertical-align: top;\n    }\n\n    .dataframe thead th {\n        text-align: right;\n    }\n</style>\n<table border=\"1\" class=\"dataframe\">\n  <thead>\n    <tr style=\"text-align: right;\">\n      <th></th>\n      <th>average-mileage</th>\n    </tr>\n    <tr>\n      <th>company</th>\n      <th></th>\n    </tr>\n  </thead>\n  <tbody>\n    <tr>\n      <th>alfa-romero</th>\n      <td>21</td>\n    </tr>\n    <tr>\n      <th>alfa-romero</th>\n      <td>21</td>\n    </tr>\n    <tr>\n      <th>alfa-romero</th>\n      <td>19</td>\n    </tr>\n    <tr>\n      <th>audi</th>\n      <td>24</td>\n    </tr>\n    <tr>\n      <th>audi</th>\n      <td>18</td>\n    </tr>\n    <tr>\n      <th>...</th>\n      <td>...</td>\n    </tr>\n    <tr>\n      <th>volkswagen</th>\n      <td>27</td>\n    </tr>\n    <tr>\n      <th>volkswagen</th>\n      <td>37</td>\n    </tr>\n    <tr>\n      <th>volkswagen</th>\n      <td>26</td>\n    </tr>\n    <tr>\n      <th>volvo</th>\n      <td>23</td>\n    </tr>\n    <tr>\n      <th>volvo</th>\n      <td>23</td>\n    </tr>\n  </tbody>\n</table>\n<p>61 rows × 1 columns</p>\n</div>"
     },
     "metadata": {},
     "execution_count": 10
    }
   ],
   "source": [
    "am.set_index('company')"
   ]
  },
  {
   "cell_type": "code",
   "execution_count": 12,
   "metadata": {},
   "outputs": [
    {
     "output_type": "execute_result",
     "data": {
      "text/plain": [
       "               average-mileage\n",
       "company                       \n",
       "alfa-romero          20.333333\n",
       "audi                 20.000000\n",
       "bmw                  19.000000\n",
       "chevrolet            41.000000\n",
       "dodge                31.000000\n",
       "honda                26.333333\n",
       "isuzu                33.333333\n",
       "jaguar               14.333333\n",
       "mazda                28.000000\n",
       "mercedes-benz        18.000000\n",
       "mitsubishi           29.500000\n",
       "nissan               31.400000\n",
       "porsche              17.000000\n",
       "toyota               28.714286\n",
       "volkswagen           31.750000\n",
       "volvo                23.000000"
      ],
      "text/html": "<div>\n<style scoped>\n    .dataframe tbody tr th:only-of-type {\n        vertical-align: middle;\n    }\n\n    .dataframe tbody tr th {\n        vertical-align: top;\n    }\n\n    .dataframe thead th {\n        text-align: right;\n    }\n</style>\n<table border=\"1\" class=\"dataframe\">\n  <thead>\n    <tr style=\"text-align: right;\">\n      <th></th>\n      <th>average-mileage</th>\n    </tr>\n    <tr>\n      <th>company</th>\n      <th></th>\n    </tr>\n  </thead>\n  <tbody>\n    <tr>\n      <th>alfa-romero</th>\n      <td>20.333333</td>\n    </tr>\n    <tr>\n      <th>audi</th>\n      <td>20.000000</td>\n    </tr>\n    <tr>\n      <th>bmw</th>\n      <td>19.000000</td>\n    </tr>\n    <tr>\n      <th>chevrolet</th>\n      <td>41.000000</td>\n    </tr>\n    <tr>\n      <th>dodge</th>\n      <td>31.000000</td>\n    </tr>\n    <tr>\n      <th>honda</th>\n      <td>26.333333</td>\n    </tr>\n    <tr>\n      <th>isuzu</th>\n      <td>33.333333</td>\n    </tr>\n    <tr>\n      <th>jaguar</th>\n      <td>14.333333</td>\n    </tr>\n    <tr>\n      <th>mazda</th>\n      <td>28.000000</td>\n    </tr>\n    <tr>\n      <th>mercedes-benz</th>\n      <td>18.000000</td>\n    </tr>\n    <tr>\n      <th>mitsubishi</th>\n      <td>29.500000</td>\n    </tr>\n    <tr>\n      <th>nissan</th>\n      <td>31.400000</td>\n    </tr>\n    <tr>\n      <th>porsche</th>\n      <td>17.000000</td>\n    </tr>\n    <tr>\n      <th>toyota</th>\n      <td>28.714286</td>\n    </tr>\n    <tr>\n      <th>volkswagen</th>\n      <td>31.750000</td>\n    </tr>\n    <tr>\n      <th>volvo</th>\n      <td>23.000000</td>\n    </tr>\n  </tbody>\n</table>\n</div>"
     },
     "metadata": {},
     "execution_count": 12
    }
   ],
   "source": [
    "am.groupby('company').mean()"
   ]
  },
  {
   "source": [
    "Exercise 8: Sort all cars by Price column"
   ],
   "cell_type": "markdown",
   "metadata": {}
  },
  {
   "cell_type": "code",
   "execution_count": 13,
   "metadata": {},
   "outputs": [
    {
     "output_type": "execute_result",
     "data": {
      "text/plain": [
       "   index      company   body-style  wheel-base  length engine-type  \\\n",
       "0      0  alfa-romero  convertible        88.6   168.8        dohc   \n",
       "1      1  alfa-romero  convertible        88.6   168.8        dohc   \n",
       "2      2  alfa-romero    hatchback        94.5   171.2        ohcv   \n",
       "3      3         audi        sedan        99.8   176.6         ohc   \n",
       "4      4         audi        sedan        99.4   176.6         ohc   \n",
       "\n",
       "  num-of-cylinders  horsepower  average-mileage    price  \n",
       "0             four         111               21  13495.0  \n",
       "1             four         111               21  16500.0  \n",
       "2              six         154               19  16500.0  \n",
       "3             four         102               24  13950.0  \n",
       "4             five         115               18  17450.0  "
      ],
      "text/html": "<div>\n<style scoped>\n    .dataframe tbody tr th:only-of-type {\n        vertical-align: middle;\n    }\n\n    .dataframe tbody tr th {\n        vertical-align: top;\n    }\n\n    .dataframe thead th {\n        text-align: right;\n    }\n</style>\n<table border=\"1\" class=\"dataframe\">\n  <thead>\n    <tr style=\"text-align: right;\">\n      <th></th>\n      <th>index</th>\n      <th>company</th>\n      <th>body-style</th>\n      <th>wheel-base</th>\n      <th>length</th>\n      <th>engine-type</th>\n      <th>num-of-cylinders</th>\n      <th>horsepower</th>\n      <th>average-mileage</th>\n      <th>price</th>\n    </tr>\n  </thead>\n  <tbody>\n    <tr>\n      <th>0</th>\n      <td>0</td>\n      <td>alfa-romero</td>\n      <td>convertible</td>\n      <td>88.6</td>\n      <td>168.8</td>\n      <td>dohc</td>\n      <td>four</td>\n      <td>111</td>\n      <td>21</td>\n      <td>13495.0</td>\n    </tr>\n    <tr>\n      <th>1</th>\n      <td>1</td>\n      <td>alfa-romero</td>\n      <td>convertible</td>\n      <td>88.6</td>\n      <td>168.8</td>\n      <td>dohc</td>\n      <td>four</td>\n      <td>111</td>\n      <td>21</td>\n      <td>16500.0</td>\n    </tr>\n    <tr>\n      <th>2</th>\n      <td>2</td>\n      <td>alfa-romero</td>\n      <td>hatchback</td>\n      <td>94.5</td>\n      <td>171.2</td>\n      <td>ohcv</td>\n      <td>six</td>\n      <td>154</td>\n      <td>19</td>\n      <td>16500.0</td>\n    </tr>\n    <tr>\n      <th>3</th>\n      <td>3</td>\n      <td>audi</td>\n      <td>sedan</td>\n      <td>99.8</td>\n      <td>176.6</td>\n      <td>ohc</td>\n      <td>four</td>\n      <td>102</td>\n      <td>24</td>\n      <td>13950.0</td>\n    </tr>\n    <tr>\n      <th>4</th>\n      <td>4</td>\n      <td>audi</td>\n      <td>sedan</td>\n      <td>99.4</td>\n      <td>176.6</td>\n      <td>ohc</td>\n      <td>five</td>\n      <td>115</td>\n      <td>18</td>\n      <td>17450.0</td>\n    </tr>\n  </tbody>\n</table>\n</div>"
     },
     "metadata": {},
     "execution_count": 13
    }
   ],
   "source": [
    "oo = pd.read_csv('C:\\\\Users\\\\jenny\\\\venvs\\\\py39\\\\PYnative\\\\Automobile_data.csv')\n",
    "oo.head()"
   ]
  },
  {
   "cell_type": "code",
   "execution_count": 15,
   "metadata": {},
   "outputs": [
    {
     "output_type": "execute_result",
     "data": {
      "text/plain": [
       "    index        company   body-style  wheel-base  length engine-type  \\\n",
       "35     47  mercedes-benz      hardtop       112.0   199.2        ohcv   \n",
       "11     14            bmw        sedan       103.5   193.8         ohc   \n",
       "34     46  mercedes-benz        sedan       120.9   208.1        ohcv   \n",
       "46     62        porsche  convertible        89.5   168.9        ohcf   \n",
       "12     15            bmw        sedan       110.0   197.0         ohc   \n",
       "\n",
       "   num-of-cylinders  horsepower  average-mileage    price  \n",
       "35            eight         184               14  45400.0  \n",
       "11              six         182               16  41315.0  \n",
       "34            eight         184               14  40960.0  \n",
       "46              six         207               17  37028.0  \n",
       "12              six         182               15  36880.0  "
      ],
      "text/html": "<div>\n<style scoped>\n    .dataframe tbody tr th:only-of-type {\n        vertical-align: middle;\n    }\n\n    .dataframe tbody tr th {\n        vertical-align: top;\n    }\n\n    .dataframe thead th {\n        text-align: right;\n    }\n</style>\n<table border=\"1\" class=\"dataframe\">\n  <thead>\n    <tr style=\"text-align: right;\">\n      <th></th>\n      <th>index</th>\n      <th>company</th>\n      <th>body-style</th>\n      <th>wheel-base</th>\n      <th>length</th>\n      <th>engine-type</th>\n      <th>num-of-cylinders</th>\n      <th>horsepower</th>\n      <th>average-mileage</th>\n      <th>price</th>\n    </tr>\n  </thead>\n  <tbody>\n    <tr>\n      <th>35</th>\n      <td>47</td>\n      <td>mercedes-benz</td>\n      <td>hardtop</td>\n      <td>112.0</td>\n      <td>199.2</td>\n      <td>ohcv</td>\n      <td>eight</td>\n      <td>184</td>\n      <td>14</td>\n      <td>45400.0</td>\n    </tr>\n    <tr>\n      <th>11</th>\n      <td>14</td>\n      <td>bmw</td>\n      <td>sedan</td>\n      <td>103.5</td>\n      <td>193.8</td>\n      <td>ohc</td>\n      <td>six</td>\n      <td>182</td>\n      <td>16</td>\n      <td>41315.0</td>\n    </tr>\n    <tr>\n      <th>34</th>\n      <td>46</td>\n      <td>mercedes-benz</td>\n      <td>sedan</td>\n      <td>120.9</td>\n      <td>208.1</td>\n      <td>ohcv</td>\n      <td>eight</td>\n      <td>184</td>\n      <td>14</td>\n      <td>40960.0</td>\n    </tr>\n    <tr>\n      <th>46</th>\n      <td>62</td>\n      <td>porsche</td>\n      <td>convertible</td>\n      <td>89.5</td>\n      <td>168.9</td>\n      <td>ohcf</td>\n      <td>six</td>\n      <td>207</td>\n      <td>17</td>\n      <td>37028.0</td>\n    </tr>\n    <tr>\n      <th>12</th>\n      <td>15</td>\n      <td>bmw</td>\n      <td>sedan</td>\n      <td>110.0</td>\n      <td>197.0</td>\n      <td>ohc</td>\n      <td>six</td>\n      <td>182</td>\n      <td>15</td>\n      <td>36880.0</td>\n    </tr>\n  </tbody>\n</table>\n</div>"
     },
     "metadata": {},
     "execution_count": 15
    }
   ],
   "source": [
    "oo.sort_values(by='price', ascending=False).head(5)"
   ]
  },
  {
   "source": [
    "Exercise 9: Concatenate two data frames using the following conditions"
   ],
   "cell_type": "markdown",
   "metadata": {}
  },
  {
   "cell_type": "code",
   "execution_count": 16,
   "metadata": {},
   "outputs": [],
   "source": [
    "GermanCars = {'Company': ['Ford', 'Mercedes', 'BMV', 'Audi'], 'Price': [23845, 171995, 135925 , 71400]}\n",
    "japaneseCars = {'Company': ['Toyota', 'Honda', 'Nissan', 'Mitsubishi '], 'Price': [29995, 23600, 61500 , 58900]}"
   ]
  },
  {
   "cell_type": "code",
   "execution_count": 21,
   "metadata": {},
   "outputs": [
    {
     "output_type": "execute_result",
     "data": {
      "text/plain": [
       "    Company   Price\n",
       "0      Ford   23845\n",
       "1  Mercedes  171995\n",
       "2       BMV  135925\n",
       "3      Audi   71400"
      ],
      "text/html": "<div>\n<style scoped>\n    .dataframe tbody tr th:only-of-type {\n        vertical-align: middle;\n    }\n\n    .dataframe tbody tr th {\n        vertical-align: top;\n    }\n\n    .dataframe thead th {\n        text-align: right;\n    }\n</style>\n<table border=\"1\" class=\"dataframe\">\n  <thead>\n    <tr style=\"text-align: right;\">\n      <th></th>\n      <th>Company</th>\n      <th>Price</th>\n    </tr>\n  </thead>\n  <tbody>\n    <tr>\n      <th>0</th>\n      <td>Ford</td>\n      <td>23845</td>\n    </tr>\n    <tr>\n      <th>1</th>\n      <td>Mercedes</td>\n      <td>171995</td>\n    </tr>\n    <tr>\n      <th>2</th>\n      <td>BMV</td>\n      <td>135925</td>\n    </tr>\n    <tr>\n      <th>3</th>\n      <td>Audi</td>\n      <td>71400</td>\n    </tr>\n  </tbody>\n</table>\n</div>"
     },
     "metadata": {},
     "execution_count": 21
    }
   ],
   "source": [
    "gc = pd.DataFrame(GermanCars)\n",
    "gc"
   ]
  },
  {
   "cell_type": "code",
   "execution_count": 22,
   "metadata": {},
   "outputs": [
    {
     "output_type": "execute_result",
     "data": {
      "text/plain": [
       "       Company  Price\n",
       "0       Toyota  29995\n",
       "1        Honda  23600\n",
       "2       Nissan  61500\n",
       "3  Mitsubishi   58900"
      ],
      "text/html": "<div>\n<style scoped>\n    .dataframe tbody tr th:only-of-type {\n        vertical-align: middle;\n    }\n\n    .dataframe tbody tr th {\n        vertical-align: top;\n    }\n\n    .dataframe thead th {\n        text-align: right;\n    }\n</style>\n<table border=\"1\" class=\"dataframe\">\n  <thead>\n    <tr style=\"text-align: right;\">\n      <th></th>\n      <th>Company</th>\n      <th>Price</th>\n    </tr>\n  </thead>\n  <tbody>\n    <tr>\n      <th>0</th>\n      <td>Toyota</td>\n      <td>29995</td>\n    </tr>\n    <tr>\n      <th>1</th>\n      <td>Honda</td>\n      <td>23600</td>\n    </tr>\n    <tr>\n      <th>2</th>\n      <td>Nissan</td>\n      <td>61500</td>\n    </tr>\n    <tr>\n      <th>3</th>\n      <td>Mitsubishi</td>\n      <td>58900</td>\n    </tr>\n  </tbody>\n</table>\n</div>"
     },
     "metadata": {},
     "execution_count": 22
    }
   ],
   "source": [
    "jc = pd.DataFrame(japaneseCars)\n",
    "jc"
   ]
  },
  {
   "cell_type": "code",
   "execution_count": 24,
   "metadata": {},
   "outputs": [
    {
     "output_type": "execute_result",
     "data": {
      "text/plain": [
       "               Company   Price\n",
       "Germany 0         Ford   23845\n",
       "        1     Mercedes  171995\n",
       "        2          BMV  135925\n",
       "        3         Audi   71400\n",
       "Japan   0       Toyota   29995\n",
       "        1        Honda   23600\n",
       "        2       Nissan   61500\n",
       "        3  Mitsubishi    58900"
      ],
      "text/html": "<div>\n<style scoped>\n    .dataframe tbody tr th:only-of-type {\n        vertical-align: middle;\n    }\n\n    .dataframe tbody tr th {\n        vertical-align: top;\n    }\n\n    .dataframe thead th {\n        text-align: right;\n    }\n</style>\n<table border=\"1\" class=\"dataframe\">\n  <thead>\n    <tr style=\"text-align: right;\">\n      <th></th>\n      <th></th>\n      <th>Company</th>\n      <th>Price</th>\n    </tr>\n  </thead>\n  <tbody>\n    <tr>\n      <th rowspan=\"4\" valign=\"top\">Germany</th>\n      <th>0</th>\n      <td>Ford</td>\n      <td>23845</td>\n    </tr>\n    <tr>\n      <th>1</th>\n      <td>Mercedes</td>\n      <td>171995</td>\n    </tr>\n    <tr>\n      <th>2</th>\n      <td>BMV</td>\n      <td>135925</td>\n    </tr>\n    <tr>\n      <th>3</th>\n      <td>Audi</td>\n      <td>71400</td>\n    </tr>\n    <tr>\n      <th rowspan=\"4\" valign=\"top\">Japan</th>\n      <th>0</th>\n      <td>Toyota</td>\n      <td>29995</td>\n    </tr>\n    <tr>\n      <th>1</th>\n      <td>Honda</td>\n      <td>23600</td>\n    </tr>\n    <tr>\n      <th>2</th>\n      <td>Nissan</td>\n      <td>61500</td>\n    </tr>\n    <tr>\n      <th>3</th>\n      <td>Mitsubishi</td>\n      <td>58900</td>\n    </tr>\n  </tbody>\n</table>\n</div>"
     },
     "metadata": {},
     "execution_count": 24
    }
   ],
   "source": [
    "pd.concat([gc, jc], keys = ['Germany', 'Japan'])"
   ]
  },
  {
   "cell_type": "code",
   "execution_count": 25,
   "metadata": {},
   "outputs": [
    {
     "output_type": "execute_result",
     "data": {
      "text/plain": [
       "       Company   Price\n",
       "0         Ford   23845\n",
       "1     Mercedes  171995\n",
       "2          BMV  135925\n",
       "3         Audi   71400\n",
       "0       Toyota   29995\n",
       "1        Honda   23600\n",
       "2       Nissan   61500\n",
       "3  Mitsubishi    58900"
      ],
      "text/html": "<div>\n<style scoped>\n    .dataframe tbody tr th:only-of-type {\n        vertical-align: middle;\n    }\n\n    .dataframe tbody tr th {\n        vertical-align: top;\n    }\n\n    .dataframe thead th {\n        text-align: right;\n    }\n</style>\n<table border=\"1\" class=\"dataframe\">\n  <thead>\n    <tr style=\"text-align: right;\">\n      <th></th>\n      <th>Company</th>\n      <th>Price</th>\n    </tr>\n  </thead>\n  <tbody>\n    <tr>\n      <th>0</th>\n      <td>Ford</td>\n      <td>23845</td>\n    </tr>\n    <tr>\n      <th>1</th>\n      <td>Mercedes</td>\n      <td>171995</td>\n    </tr>\n    <tr>\n      <th>2</th>\n      <td>BMV</td>\n      <td>135925</td>\n    </tr>\n    <tr>\n      <th>3</th>\n      <td>Audi</td>\n      <td>71400</td>\n    </tr>\n    <tr>\n      <th>0</th>\n      <td>Toyota</td>\n      <td>29995</td>\n    </tr>\n    <tr>\n      <th>1</th>\n      <td>Honda</td>\n      <td>23600</td>\n    </tr>\n    <tr>\n      <th>2</th>\n      <td>Nissan</td>\n      <td>61500</td>\n    </tr>\n    <tr>\n      <th>3</th>\n      <td>Mitsubishi</td>\n      <td>58900</td>\n    </tr>\n  </tbody>\n</table>\n</div>"
     },
     "metadata": {},
     "execution_count": 25
    }
   ],
   "source": [
    "pd.concat([gc, jc])\n"
   ]
  },
  {
   "source": [
    "Exercise 10: Merge two data frames using the following condition"
   ],
   "cell_type": "markdown",
   "metadata": {}
  },
  {
   "cell_type": "code",
   "execution_count": 26,
   "metadata": {},
   "outputs": [],
   "source": [
    "Car_Price = {'Company': ['Toyota', 'Honda', 'BMV', 'Audi'], 'Price': [23845, 17995, 135925 , 71400]}\n",
    "car_Horsepower = {'Company': ['Toyota', 'Honda', 'BMV', 'Audi'], 'horsepower': [141, 80, 182 , 160]}"
   ]
  },
  {
   "cell_type": "code",
   "execution_count": 29,
   "metadata": {},
   "outputs": [
    {
     "output_type": "execute_result",
     "data": {
      "text/plain": [
       "  Company   Price\n",
       "0  Toyota   23845\n",
       "1   Honda   17995\n",
       "2     BMV  135925\n",
       "3    Audi   71400"
      ],
      "text/html": "<div>\n<style scoped>\n    .dataframe tbody tr th:only-of-type {\n        vertical-align: middle;\n    }\n\n    .dataframe tbody tr th {\n        vertical-align: top;\n    }\n\n    .dataframe thead th {\n        text-align: right;\n    }\n</style>\n<table border=\"1\" class=\"dataframe\">\n  <thead>\n    <tr style=\"text-align: right;\">\n      <th></th>\n      <th>Company</th>\n      <th>Price</th>\n    </tr>\n  </thead>\n  <tbody>\n    <tr>\n      <th>0</th>\n      <td>Toyota</td>\n      <td>23845</td>\n    </tr>\n    <tr>\n      <th>1</th>\n      <td>Honda</td>\n      <td>17995</td>\n    </tr>\n    <tr>\n      <th>2</th>\n      <td>BMV</td>\n      <td>135925</td>\n    </tr>\n    <tr>\n      <th>3</th>\n      <td>Audi</td>\n      <td>71400</td>\n    </tr>\n  </tbody>\n</table>\n</div>"
     },
     "metadata": {},
     "execution_count": 29
    }
   ],
   "source": [
    "cp = pd.DataFrame(Car_Price)\n",
    "cp"
   ]
  },
  {
   "cell_type": "code",
   "execution_count": 31,
   "metadata": {},
   "outputs": [
    {
     "output_type": "execute_result",
     "data": {
      "text/plain": [
       "  Company  horsepower\n",
       "0  Toyota         141\n",
       "1   Honda          80\n",
       "2     BMV         182\n",
       "3    Audi         160"
      ],
      "text/html": "<div>\n<style scoped>\n    .dataframe tbody tr th:only-of-type {\n        vertical-align: middle;\n    }\n\n    .dataframe tbody tr th {\n        vertical-align: top;\n    }\n\n    .dataframe thead th {\n        text-align: right;\n    }\n</style>\n<table border=\"1\" class=\"dataframe\">\n  <thead>\n    <tr style=\"text-align: right;\">\n      <th></th>\n      <th>Company</th>\n      <th>horsepower</th>\n    </tr>\n  </thead>\n  <tbody>\n    <tr>\n      <th>0</th>\n      <td>Toyota</td>\n      <td>141</td>\n    </tr>\n    <tr>\n      <th>1</th>\n      <td>Honda</td>\n      <td>80</td>\n    </tr>\n    <tr>\n      <th>2</th>\n      <td>BMV</td>\n      <td>182</td>\n    </tr>\n    <tr>\n      <th>3</th>\n      <td>Audi</td>\n      <td>160</td>\n    </tr>\n  </tbody>\n</table>\n</div>"
     },
     "metadata": {},
     "execution_count": 31
    }
   ],
   "source": [
    "ch = pd.DataFrame(car_Horsepower)\n",
    "ch"
   ]
  },
  {
   "cell_type": "code",
   "execution_count": 35,
   "metadata": {},
   "outputs": [
    {
     "output_type": "execute_result",
     "data": {
      "text/plain": [
       "  Company   Price  horsepower\n",
       "0  Toyota   23845         141\n",
       "1   Honda   17995          80\n",
       "2     BMV  135925         182\n",
       "3    Audi   71400         160"
      ],
      "text/html": "<div>\n<style scoped>\n    .dataframe tbody tr th:only-of-type {\n        vertical-align: middle;\n    }\n\n    .dataframe tbody tr th {\n        vertical-align: top;\n    }\n\n    .dataframe thead th {\n        text-align: right;\n    }\n</style>\n<table border=\"1\" class=\"dataframe\">\n  <thead>\n    <tr style=\"text-align: right;\">\n      <th></th>\n      <th>Company</th>\n      <th>Price</th>\n      <th>horsepower</th>\n    </tr>\n  </thead>\n  <tbody>\n    <tr>\n      <th>0</th>\n      <td>Toyota</td>\n      <td>23845</td>\n      <td>141</td>\n    </tr>\n    <tr>\n      <th>1</th>\n      <td>Honda</td>\n      <td>17995</td>\n      <td>80</td>\n    </tr>\n    <tr>\n      <th>2</th>\n      <td>BMV</td>\n      <td>135925</td>\n      <td>182</td>\n    </tr>\n    <tr>\n      <th>3</th>\n      <td>Audi</td>\n      <td>71400</td>\n      <td>160</td>\n    </tr>\n  </tbody>\n</table>\n</div>"
     },
     "metadata": {},
     "execution_count": 35
    }
   ],
   "source": [
    "pd.merge(cp, ch, on='Company')"
   ]
  },
  {
   "cell_type": "code",
   "execution_count": null,
   "metadata": {},
   "outputs": [],
   "source": []
  }
 ]
}